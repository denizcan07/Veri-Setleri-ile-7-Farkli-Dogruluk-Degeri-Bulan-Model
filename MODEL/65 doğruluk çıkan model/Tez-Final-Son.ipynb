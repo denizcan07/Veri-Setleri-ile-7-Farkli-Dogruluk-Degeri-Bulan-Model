{
 "cells": [
  {
   "cell_type": "code",
   "execution_count": 1,
   "metadata": {},
   "outputs": [],
   "source": [
    "import numpy\n",
    "import pandas as pd"
   ]
  },
  {
   "cell_type": "code",
   "execution_count": 2,
   "metadata": {},
   "outputs": [
    {
     "data": {
      "text/plain": [
       "(1442, 10)"
      ]
     },
     "execution_count": 2,
     "metadata": {},
     "output_type": "execute_result"
    }
   ],
   "source": [
    "df = pd.read_csv(\"Son-Veri-Seti.csv\",header=0,infer_datetime_format=True)\n",
    "df.shape"
   ]
  },
  {
   "cell_type": "code",
   "execution_count": 3,
   "metadata": {
    "scrolled": true
   },
   "outputs": [
    {
     "data": {
      "text/html": [
       "<div>\n",
       "<style scoped>\n",
       "    .dataframe tbody tr th:only-of-type {\n",
       "        vertical-align: middle;\n",
       "    }\n",
       "\n",
       "    .dataframe tbody tr th {\n",
       "        vertical-align: top;\n",
       "    }\n",
       "\n",
       "    .dataframe thead th {\n",
       "        text-align: right;\n",
       "    }\n",
       "</style>\n",
       "<table border=\"1\" class=\"dataframe\">\n",
       "  <thead>\n",
       "    <tr style=\"text-align: right;\">\n",
       "      <th></th>\n",
       "      <th>Unnamed: 0</th>\n",
       "      <th>Global_active_power</th>\n",
       "      <th>Global_reactive_power</th>\n",
       "      <th>Voltage</th>\n",
       "      <th>Global_intensity</th>\n",
       "      <th>Sub_metering_1</th>\n",
       "      <th>Sub_metering_2</th>\n",
       "      <th>Sub_metering_3</th>\n",
       "      <th>Sub_metering_4</th>\n",
       "      <th>Result</th>\n",
       "    </tr>\n",
       "  </thead>\n",
       "  <tbody>\n",
       "    <tr>\n",
       "      <th>0</th>\n",
       "      <td>0</td>\n",
       "      <td>1209</td>\n",
       "      <td>34</td>\n",
       "      <td>93552</td>\n",
       "      <td>5180</td>\n",
       "      <td>0</td>\n",
       "      <td>546</td>\n",
       "      <td>4926</td>\n",
       "      <td>14680</td>\n",
       "      <td>0</td>\n",
       "    </tr>\n",
       "    <tr>\n",
       "      <th>1</th>\n",
       "      <td>1</td>\n",
       "      <td>3390</td>\n",
       "      <td>226</td>\n",
       "      <td>345725</td>\n",
       "      <td>14398</td>\n",
       "      <td>2033</td>\n",
       "      <td>4187</td>\n",
       "      <td>13341</td>\n",
       "      <td>36946</td>\n",
       "      <td>1</td>\n",
       "    </tr>\n",
       "    <tr>\n",
       "      <th>2</th>\n",
       "      <td>2</td>\n",
       "      <td>2203</td>\n",
       "      <td>161</td>\n",
       "      <td>347373</td>\n",
       "      <td>9247</td>\n",
       "      <td>1063</td>\n",
       "      <td>2621</td>\n",
       "      <td>14018</td>\n",
       "      <td>19028</td>\n",
       "      <td>0</td>\n",
       "    </tr>\n",
       "    <tr>\n",
       "      <th>3</th>\n",
       "      <td>3</td>\n",
       "      <td>1666</td>\n",
       "      <td>150</td>\n",
       "      <td>348479</td>\n",
       "      <td>7094</td>\n",
       "      <td>839</td>\n",
       "      <td>7602</td>\n",
       "      <td>6197</td>\n",
       "      <td>13131</td>\n",
       "      <td>1</td>\n",
       "    </tr>\n",
       "    <tr>\n",
       "      <th>4</th>\n",
       "      <td>4</td>\n",
       "      <td>2225</td>\n",
       "      <td>160</td>\n",
       "      <td>348923</td>\n",
       "      <td>9312</td>\n",
       "      <td>0</td>\n",
       "      <td>2648</td>\n",
       "      <td>14063</td>\n",
       "      <td>20384</td>\n",
       "      <td>0</td>\n",
       "    </tr>\n",
       "  </tbody>\n",
       "</table>\n",
       "</div>"
      ],
      "text/plain": [
       "   Unnamed: 0  Global_active_power  Global_reactive_power  Voltage  \\\n",
       "0           0                 1209                     34    93552   \n",
       "1           1                 3390                    226   345725   \n",
       "2           2                 2203                    161   347373   \n",
       "3           3                 1666                    150   348479   \n",
       "4           4                 2225                    160   348923   \n",
       "\n",
       "   Global_intensity  Sub_metering_1  Sub_metering_2  Sub_metering_3  \\\n",
       "0              5180               0             546            4926   \n",
       "1             14398            2033            4187           13341   \n",
       "2              9247            1063            2621           14018   \n",
       "3              7094             839            7602            6197   \n",
       "4              9312               0            2648           14063   \n",
       "\n",
       "   Sub_metering_4  Result  \n",
       "0           14680       0  \n",
       "1           36946       1  \n",
       "2           19028       0  \n",
       "3           13131       1  \n",
       "4           20384       0  "
      ]
     },
     "execution_count": 3,
     "metadata": {},
     "output_type": "execute_result"
    }
   ],
   "source": [
    "df.head()"
   ]
  },
  {
   "cell_type": "code",
   "execution_count": 4,
   "metadata": {},
   "outputs": [
    {
     "data": {
      "text/html": [
       "<div>\n",
       "<style scoped>\n",
       "    .dataframe tbody tr th:only-of-type {\n",
       "        vertical-align: middle;\n",
       "    }\n",
       "\n",
       "    .dataframe tbody tr th {\n",
       "        vertical-align: top;\n",
       "    }\n",
       "\n",
       "    .dataframe thead th {\n",
       "        text-align: right;\n",
       "    }\n",
       "</style>\n",
       "<table border=\"1\" class=\"dataframe\">\n",
       "  <thead>\n",
       "    <tr style=\"text-align: right;\">\n",
       "      <th></th>\n",
       "      <th>Global_active_power</th>\n",
       "      <th>Global_reactive_power</th>\n",
       "      <th>Voltage</th>\n",
       "      <th>Global_intensity</th>\n",
       "      <th>Sub_metering_1</th>\n",
       "      <th>Sub_metering_2</th>\n",
       "      <th>Sub_metering_3</th>\n",
       "      <th>Sub_metering_4</th>\n",
       "      <th>Result</th>\n",
       "    </tr>\n",
       "  </thead>\n",
       "  <tbody>\n",
       "    <tr>\n",
       "      <th>0</th>\n",
       "      <td>1209</td>\n",
       "      <td>34</td>\n",
       "      <td>93552</td>\n",
       "      <td>5180</td>\n",
       "      <td>0</td>\n",
       "      <td>546</td>\n",
       "      <td>4926</td>\n",
       "      <td>14680</td>\n",
       "      <td>0</td>\n",
       "    </tr>\n",
       "    <tr>\n",
       "      <th>1</th>\n",
       "      <td>3390</td>\n",
       "      <td>226</td>\n",
       "      <td>345725</td>\n",
       "      <td>14398</td>\n",
       "      <td>2033</td>\n",
       "      <td>4187</td>\n",
       "      <td>13341</td>\n",
       "      <td>36946</td>\n",
       "      <td>1</td>\n",
       "    </tr>\n",
       "    <tr>\n",
       "      <th>2</th>\n",
       "      <td>2203</td>\n",
       "      <td>161</td>\n",
       "      <td>347373</td>\n",
       "      <td>9247</td>\n",
       "      <td>1063</td>\n",
       "      <td>2621</td>\n",
       "      <td>14018</td>\n",
       "      <td>19028</td>\n",
       "      <td>0</td>\n",
       "    </tr>\n",
       "    <tr>\n",
       "      <th>3</th>\n",
       "      <td>1666</td>\n",
       "      <td>150</td>\n",
       "      <td>348479</td>\n",
       "      <td>7094</td>\n",
       "      <td>839</td>\n",
       "      <td>7602</td>\n",
       "      <td>6197</td>\n",
       "      <td>13131</td>\n",
       "      <td>1</td>\n",
       "    </tr>\n",
       "    <tr>\n",
       "      <th>4</th>\n",
       "      <td>2225</td>\n",
       "      <td>160</td>\n",
       "      <td>348923</td>\n",
       "      <td>9312</td>\n",
       "      <td>0</td>\n",
       "      <td>2648</td>\n",
       "      <td>14063</td>\n",
       "      <td>20384</td>\n",
       "      <td>0</td>\n",
       "    </tr>\n",
       "  </tbody>\n",
       "</table>\n",
       "</div>"
      ],
      "text/plain": [
       "   Global_active_power  Global_reactive_power  Voltage  Global_intensity  \\\n",
       "0                 1209                     34    93552              5180   \n",
       "1                 3390                    226   345725             14398   \n",
       "2                 2203                    161   347373              9247   \n",
       "3                 1666                    150   348479              7094   \n",
       "4                 2225                    160   348923              9312   \n",
       "\n",
       "   Sub_metering_1  Sub_metering_2  Sub_metering_3  Sub_metering_4  Result  \n",
       "0               0             546            4926           14680       0  \n",
       "1            2033            4187           13341           36946       1  \n",
       "2            1063            2621           14018           19028       0  \n",
       "3             839            7602            6197           13131       1  \n",
       "4               0            2648           14063           20384       0  "
      ]
     },
     "execution_count": 4,
     "metadata": {},
     "output_type": "execute_result"
    }
   ],
   "source": [
    "df = df.iloc[:,1:10]\n",
    "df.head()"
   ]
  },
  {
   "cell_type": "code",
   "execution_count": 5,
   "metadata": {},
   "outputs": [
    {
     "data": {
      "text/html": [
       "<div>\n",
       "<style scoped>\n",
       "    .dataframe tbody tr th:only-of-type {\n",
       "        vertical-align: middle;\n",
       "    }\n",
       "\n",
       "    .dataframe tbody tr th {\n",
       "        vertical-align: top;\n",
       "    }\n",
       "\n",
       "    .dataframe thead th {\n",
       "        text-align: right;\n",
       "    }\n",
       "</style>\n",
       "<table border=\"1\" class=\"dataframe\">\n",
       "  <thead>\n",
       "    <tr style=\"text-align: right;\">\n",
       "      <th></th>\n",
       "      <th>Global_active_power</th>\n",
       "      <th>Global_reactive_power</th>\n",
       "      <th>Voltage</th>\n",
       "      <th>Global_intensity</th>\n",
       "      <th>Sub_metering_1</th>\n",
       "      <th>Sub_metering_2</th>\n",
       "      <th>Sub_metering_3</th>\n",
       "      <th>Sub_metering_4</th>\n",
       "      <th>Result</th>\n",
       "    </tr>\n",
       "  </thead>\n",
       "  <tbody>\n",
       "    <tr>\n",
       "      <th>1437</th>\n",
       "      <td>2041</td>\n",
       "      <td>142</td>\n",
       "      <td>345883</td>\n",
       "      <td>8660</td>\n",
       "      <td>4855</td>\n",
       "      <td>2110</td>\n",
       "      <td>10136</td>\n",
       "      <td>16924</td>\n",
       "      <td>0</td>\n",
       "    </tr>\n",
       "    <tr>\n",
       "      <th>1438</th>\n",
       "      <td>1577</td>\n",
       "      <td>137</td>\n",
       "      <td>346428</td>\n",
       "      <td>6731</td>\n",
       "      <td>1871</td>\n",
       "      <td>458</td>\n",
       "      <td>7611</td>\n",
       "      <td>16352</td>\n",
       "      <td>0</td>\n",
       "    </tr>\n",
       "    <tr>\n",
       "      <th>1439</th>\n",
       "      <td>1796</td>\n",
       "      <td>132</td>\n",
       "      <td>345644</td>\n",
       "      <td>7559</td>\n",
       "      <td>1096</td>\n",
       "      <td>2848</td>\n",
       "      <td>12224</td>\n",
       "      <td>13769</td>\n",
       "      <td>0</td>\n",
       "    </tr>\n",
       "    <tr>\n",
       "      <th>1440</th>\n",
       "      <td>1431</td>\n",
       "      <td>116</td>\n",
       "      <td>347812</td>\n",
       "      <td>6004</td>\n",
       "      <td>1076</td>\n",
       "      <td>426</td>\n",
       "      <td>5072</td>\n",
       "      <td>17278</td>\n",
       "      <td>0</td>\n",
       "    </tr>\n",
       "    <tr>\n",
       "      <th>1441</th>\n",
       "      <td>1488</td>\n",
       "      <td>120</td>\n",
       "      <td>303487</td>\n",
       "      <td>6259</td>\n",
       "      <td>1080</td>\n",
       "      <td>385</td>\n",
       "      <td>9989</td>\n",
       "      <td>13347</td>\n",
       "      <td>0</td>\n",
       "    </tr>\n",
       "  </tbody>\n",
       "</table>\n",
       "</div>"
      ],
      "text/plain": [
       "      Global_active_power  Global_reactive_power  Voltage  Global_intensity  \\\n",
       "1437                 2041                    142   345883              8660   \n",
       "1438                 1577                    137   346428              6731   \n",
       "1439                 1796                    132   345644              7559   \n",
       "1440                 1431                    116   347812              6004   \n",
       "1441                 1488                    120   303487              6259   \n",
       "\n",
       "      Sub_metering_1  Sub_metering_2  Sub_metering_3  Sub_metering_4  Result  \n",
       "1437            4855            2110           10136           16924       0  \n",
       "1438            1871             458            7611           16352       0  \n",
       "1439            1096            2848           12224           13769       0  \n",
       "1440            1076             426            5072           17278       0  \n",
       "1441            1080             385            9989           13347       0  "
      ]
     },
     "execution_count": 5,
     "metadata": {},
     "output_type": "execute_result"
    }
   ],
   "source": [
    "df.tail()"
   ]
  },
  {
   "cell_type": "code",
   "execution_count": 6,
   "metadata": {},
   "outputs": [
    {
     "data": {
      "text/plain": [
       "array([[  1209,     34,  93552, ...,   4926,  14680,      0],\n",
       "       [  3390,    226, 345725, ...,  13341,  36946,      1],\n",
       "       [  2203,    161, 347373, ...,  14018,  19028,      0],\n",
       "       ...,\n",
       "       [  1796,    132, 345644, ...,  12224,  13769,      0],\n",
       "       [  1431,    116, 347812, ...,   5072,  17278,      0],\n",
       "       [  1488,    120, 303487, ...,   9989,  13347,      0]], dtype=int64)"
      ]
     },
     "execution_count": 6,
     "metadata": {},
     "output_type": "execute_result"
    }
   ],
   "source": [
    "dataset=numpy.array(df)\n",
    "dataset"
   ]
  },
  {
   "cell_type": "markdown",
   "metadata": {},
   "source": [
    "# 1- Parti Boyutunu ve Dönem Sayısı Nasıl Ayarlanır"
   ]
  },
  {
   "cell_type": "code",
   "execution_count": 7,
   "metadata": {},
   "outputs": [],
   "source": [
    "# Epochs ve batch size'ı ızgarada aramak için scikit-learn'i kullanalım.\n",
    "from sklearn.model_selection import GridSearchCV\n",
    "from keras.models import Sequential\n",
    "from keras.layers import Dense\n",
    "from keras.wrappers.scikit_learn import KerasClassifier"
   ]
  },
  {
   "cell_type": "code",
   "execution_count": 8,
   "metadata": {},
   "outputs": [
    {
     "name": "stdout",
     "output_type": "stream",
     "text": [
      "Best: 0.656044 using {'batch_size': 20, 'epochs': 50}\n",
      "0.655351 (0.018112) with: {'batch_size': 10, 'epochs': 10}\n",
      "0.550488 (0.139483) with: {'batch_size': 10, 'epochs': 50}\n",
      "0.583276 (0.116954) with: {'batch_size': 10, 'epochs': 100}\n",
      "0.463155 (0.121623) with: {'batch_size': 20, 'epochs': 10}\n",
      "0.656044 (0.017140) with: {'batch_size': 20, 'epochs': 50}\n",
      "0.456456 (0.149260) with: {'batch_size': 20, 'epochs': 100}\n",
      "0.551284 (0.057541) with: {'batch_size': 40, 'epochs': 10}\n",
      "0.539530 (0.076402) with: {'batch_size': 40, 'epochs': 50}\n",
      "0.465465 (0.143001) with: {'batch_size': 40, 'epochs': 100}\n",
      "0.561765 (0.054016) with: {'batch_size': 60, 'epochs': 10}\n",
      "0.653962 (0.016997) with: {'batch_size': 60, 'epochs': 50}\n",
      "0.647032 (0.026794) with: {'batch_size': 60, 'epochs': 100}\n",
      "0.500690 (0.081552) with: {'batch_size': 80, 'epochs': 10}\n",
      "0.443151 (0.034043) with: {'batch_size': 80, 'epochs': 50}\n",
      "0.440982 (0.133814) with: {'batch_size': 80, 'epochs': 100}\n",
      "0.559644 (0.055392) with: {'batch_size': 100, 'epochs': 10}\n",
      "0.615118 (0.011888) with: {'batch_size': 100, 'epochs': 50}\n",
      "0.430584 (0.136555) with: {'batch_size': 100, 'epochs': 100}\n"
     ]
    }
   ],
   "source": [
    "# KerasClassifier için gerekli olan modeli oluşturma \n",
    "def create_model():\n",
    "\t# Model oluşturma\n",
    "\tmodel = Sequential()\n",
    "\tmodel.add(Dense(12, input_dim=8, activation='relu'))\n",
    "\tmodel.add(Dense(1, activation='sigmoid'))\n",
    "\t# Modeli derleme\n",
    "\tmodel.compile(loss='binary_crossentropy', optimizer='adam', metrics=['accuracy'])\n",
    "\treturn model\n",
    "# Tekrarlanabilirlik için rastgele tohumu ayarladık.\n",
    "seed = 7\n",
    "numpy.random.seed(seed)\n",
    "# Giriş (X) ve çıkış (Y) değişkenlerine böldük\n",
    "X = dataset[:,0:8]\n",
    "Y = dataset[:,8:]\n",
    "# model oluşturma\n",
    "model = KerasClassifier(build_fn=create_model, verbose=0)\n",
    "# Izgara arama parametrelerini tanımladık.\n",
    "batch_size = [10, 20, 40, 60, 80, 100]\n",
    "epochs = [10, 50, 100]\n",
    "param_grid = dict(batch_size=batch_size, epochs=epochs)\n",
    "grid = GridSearchCV(estimator=model, param_grid=param_grid, n_jobs=-1, cv=3)\n",
    "grid_result = grid.fit(X, Y)\n",
    "# Sonuçları özetleyelim.\n",
    "print(\"Best: %f using %s\" % (grid_result.best_score_, grid_result.best_params_))\n",
    "means = grid_result.cv_results_['mean_test_score']\n",
    "stds = grid_result.cv_results_['std_test_score']\n",
    "params = grid_result.cv_results_['params']\n",
    "for mean, stdev, param in zip(means, stds, params):\n",
    "    print(\"%f (%f) with: %r\" % (mean, stdev, param))"
   ]
  },
  {
   "cell_type": "code",
   "execution_count": null,
   "metadata": {},
   "outputs": [],
   "source": []
  },
  {
   "cell_type": "markdown",
   "metadata": {},
   "source": [
    "# 2- Eğitim Optimizasyon Algoritmasını Ayarlama"
   ]
  },
  {
   "cell_type": "code",
   "execution_count": 9,
   "metadata": {},
   "outputs": [],
   "source": [
    "import numpy\n",
    "from sklearn.model_selection import GridSearchCV\n",
    "from keras.models import Sequential\n",
    "from keras.layers import Dense\n",
    "from keras.wrappers.scikit_learn import KerasClassifier"
   ]
  },
  {
   "cell_type": "code",
   "execution_count": 10,
   "metadata": {},
   "outputs": [
    {
     "name": "stdout",
     "output_type": "stream",
     "text": [
      "Best: 0.654655 using {'optimizer': 'SGD'}\n",
      "0.654655 (0.016017) with: {'optimizer': 'SGD'}\n",
      "0.654655 (0.016017) with: {'optimizer': 'RMSprop'}\n",
      "0.539582 (0.054928) with: {'optimizer': 'Adagrad'}\n",
      "0.543544 (0.149260) with: {'optimizer': 'Adadelta'}\n",
      "0.545854 (0.149813) with: {'optimizer': 'Adam'}\n",
      "0.524371 (0.141967) with: {'optimizer': 'Adamax'}\n",
      "0.566644 (0.140475) with: {'optimizer': 'Nadam'}\n"
     ]
    }
   ],
   "source": [
    "# KerasClassifier için gerekli olan modeli oluşturma\n",
    "def create_model(optimizer='adam'):\n",
    "\t# Model oluşturma\n",
    "\tmodel = Sequential()\n",
    "\tmodel.add(Dense(12, input_dim=8, activation='relu'))\n",
    "\tmodel.add(Dense(1, activation='sigmoid'))\n",
    "\t# Modeli derleme\n",
    "\tmodel.compile(loss='binary_crossentropy', optimizer=optimizer, metrics=['accuracy'])\n",
    "\treturn model\n",
    "# Tekrarlanabilirlik için rastgele tohumu ayarladık.\n",
    "seed = 7\n",
    "numpy.random.seed(seed)\n",
    "# Giriş (X) ve çıkış (Y) değişkenlerine böldük\n",
    "X = dataset[:,0:8]\n",
    "Y = dataset[:,8:]\n",
    "# Model oluşturma\n",
    "model = KerasClassifier(build_fn=create_model, epochs=100, batch_size=10, verbose=0)\n",
    "# Izgara arama parametrelerini tanımladık.\n",
    "optimizer = ['SGD', 'RMSprop', 'Adagrad', 'Adadelta', 'Adam', 'Adamax', 'Nadam']\n",
    "param_grid = dict(optimizer=optimizer)\n",
    "grid = GridSearchCV(estimator=model, param_grid=param_grid, n_jobs=-1, cv=3)\n",
    "grid_result = grid.fit(X, Y)\n",
    "# Sonuçları özetleyelim.\n",
    "print(\"Best: %f using %s\" % (grid_result.best_score_, grid_result.best_params_))\n",
    "means = grid_result.cv_results_['mean_test_score']\n",
    "stds = grid_result.cv_results_['std_test_score']\n",
    "params = grid_result.cv_results_['params']\n",
    "for mean, stdev, param in zip(means, stds, params):\n",
    "    print(\"%f (%f) with: %r\" % (mean, stdev, param))"
   ]
  },
  {
   "cell_type": "code",
   "execution_count": null,
   "metadata": {},
   "outputs": [],
   "source": []
  },
  {
   "cell_type": "markdown",
   "metadata": {},
   "source": [
    "# 3- Öğrenme Hızını ve Momentum Ayarlama"
   ]
  },
  {
   "cell_type": "code",
   "execution_count": 11,
   "metadata": {},
   "outputs": [],
   "source": [
    "# Öğrenme hızını ve momentumu ızgarada aramak için scikit-learn'i kullanalım\n",
    "import numpy\n",
    "from sklearn.model_selection import GridSearchCV\n",
    "from keras.models import Sequential\n",
    "from keras.layers import Dense\n",
    "from keras.wrappers.scikit_learn import KerasClassifier\n",
    "from keras.optimizers import SGD"
   ]
  },
  {
   "cell_type": "code",
   "execution_count": 12,
   "metadata": {},
   "outputs": [
    {
     "name": "stdout",
     "output_type": "stream",
     "text": [
      "Best: 0.654655 using {'learn_rate': 0.001, 'momentum': 0.0}\n",
      "0.654655 (0.016017) with: {'learn_rate': 0.001, 'momentum': 0.0}\n",
      "0.654655 (0.016017) with: {'learn_rate': 0.001, 'momentum': 0.2}\n",
      "0.654655 (0.016017) with: {'learn_rate': 0.001, 'momentum': 0.4}\n",
      "0.654655 (0.016017) with: {'learn_rate': 0.001, 'momentum': 0.6}\n",
      "0.654655 (0.016017) with: {'learn_rate': 0.001, 'momentum': 0.8}\n",
      "0.654655 (0.016017) with: {'learn_rate': 0.001, 'momentum': 0.9}\n",
      "0.654655 (0.016017) with: {'learn_rate': 0.01, 'momentum': 0.0}\n",
      "0.654655 (0.016017) with: {'learn_rate': 0.01, 'momentum': 0.2}\n",
      "0.654655 (0.016017) with: {'learn_rate': 0.01, 'momentum': 0.4}\n",
      "0.654655 (0.016017) with: {'learn_rate': 0.01, 'momentum': 0.6}\n",
      "0.654655 (0.016017) with: {'learn_rate': 0.01, 'momentum': 0.8}\n",
      "0.654655 (0.016017) with: {'learn_rate': 0.01, 'momentum': 0.9}\n",
      "0.654655 (0.016017) with: {'learn_rate': 0.1, 'momentum': 0.0}\n",
      "0.654655 (0.016017) with: {'learn_rate': 0.1, 'momentum': 0.2}\n",
      "0.654655 (0.016017) with: {'learn_rate': 0.1, 'momentum': 0.4}\n",
      "0.654655 (0.016017) with: {'learn_rate': 0.1, 'momentum': 0.6}\n",
      "0.654655 (0.016017) with: {'learn_rate': 0.1, 'momentum': 0.8}\n",
      "0.654655 (0.016017) with: {'learn_rate': 0.1, 'momentum': 0.9}\n",
      "0.654655 (0.016017) with: {'learn_rate': 0.2, 'momentum': 0.0}\n",
      "0.654655 (0.016017) with: {'learn_rate': 0.2, 'momentum': 0.2}\n",
      "0.654655 (0.016017) with: {'learn_rate': 0.2, 'momentum': 0.4}\n",
      "0.654655 (0.016017) with: {'learn_rate': 0.2, 'momentum': 0.6}\n",
      "0.654655 (0.016017) with: {'learn_rate': 0.2, 'momentum': 0.8}\n",
      "0.654655 (0.016017) with: {'learn_rate': 0.2, 'momentum': 0.9}\n",
      "0.654655 (0.016017) with: {'learn_rate': 0.3, 'momentum': 0.0}\n",
      "0.654655 (0.016017) with: {'learn_rate': 0.3, 'momentum': 0.2}\n",
      "0.654655 (0.016017) with: {'learn_rate': 0.3, 'momentum': 0.4}\n",
      "0.654655 (0.016017) with: {'learn_rate': 0.3, 'momentum': 0.6}\n",
      "0.654655 (0.016017) with: {'learn_rate': 0.3, 'momentum': 0.8}\n",
      "0.654655 (0.016017) with: {'learn_rate': 0.3, 'momentum': 0.9}\n"
     ]
    }
   ],
   "source": [
    "# KerasClassifier için gerekli olan modeli oluşturma\n",
    "def create_model(learn_rate=0.01, momentum=0):\n",
    "\t# Model oluşturma\n",
    "\tmodel = Sequential()\n",
    "\tmodel.add(Dense(12, input_dim=8, activation='relu'))\n",
    "\tmodel.add(Dense(1, activation='sigmoid'))\n",
    "\t# Modeli derleme\n",
    "\toptimizer = SGD(lr=learn_rate, momentum=momentum)\n",
    "\tmodel.compile(loss='binary_crossentropy', optimizer=optimizer, metrics=['accuracy'])\n",
    "\treturn model\n",
    "# Tekrarlanabilirlik için rastgele tohumu ayarladık.\n",
    "seed = 7\n",
    "numpy.random.seed(seed)\n",
    "# Giriş (X) ve çıkış (Y) değişkenlerine böldük\n",
    "X = dataset[:,0:8]\n",
    "Y = dataset[:,8:]\n",
    "# Model oluşturma\n",
    "model = KerasClassifier(build_fn=create_model, epochs=100, batch_size=10, verbose=0)\n",
    "# Izgara arama parametrelerini tanımladık.\n",
    "learn_rate = [0.001, 0.01, 0.1, 0.2, 0.3]\n",
    "momentum = [0.0, 0.2, 0.4, 0.6, 0.8, 0.9]\n",
    "param_grid = dict(learn_rate=learn_rate, momentum=momentum)\n",
    "grid = GridSearchCV(estimator=model, param_grid=param_grid, n_jobs=-1, cv=3)\n",
    "grid_result = grid.fit(X, Y)\n",
    "# Sonuçları özetleyelim.\n",
    "print(\"Best: %f using %s\" % (grid_result.best_score_, grid_result.best_params_))\n",
    "means = grid_result.cv_results_['mean_test_score']\n",
    "stds = grid_result.cv_results_['std_test_score']\n",
    "params = grid_result.cv_results_['params']\n",
    "for mean, stdev, param in zip(means, stds, params):\n",
    "    print(\"%f (%f) with: %r\" % (mean, stdev, param))"
   ]
  },
  {
   "cell_type": "code",
   "execution_count": null,
   "metadata": {},
   "outputs": [],
   "source": []
  },
  {
   "cell_type": "markdown",
   "metadata": {},
   "source": [
    "# 4- Ağ Ağırlığı Başlatma Nasıl Ayarlanır"
   ]
  },
  {
   "cell_type": "code",
   "execution_count": 13,
   "metadata": {},
   "outputs": [],
   "source": [
    "# Ağırlık başlatmayı ızgarada aramak için scikit-learn'i kullanalım.\n",
    "import numpy\n",
    "from sklearn.model_selection import GridSearchCV\n",
    "from keras.models import Sequential\n",
    "from keras.layers import Dense\n",
    "from keras.wrappers.scikit_learn import KerasClassifier"
   ]
  },
  {
   "cell_type": "code",
   "execution_count": 14,
   "metadata": {},
   "outputs": [
    {
     "name": "stdout",
     "output_type": "stream",
     "text": [
      "Best: 0.657427 using {'init_mode': 'normal'}\n",
      "0.654655 (0.016017) with: {'init_mode': 'uniform'}\n",
      "0.541696 (0.147402) with: {'init_mode': 'lecun_uniform'}\n",
      "0.657427 (0.012101) with: {'init_mode': 'normal'}\n",
      "0.654655 (0.016017) with: {'init_mode': 'zero'}\n",
      "0.653266 (0.015068) with: {'init_mode': 'glorot_normal'}\n",
      "0.566644 (0.140475) with: {'init_mode': 'glorot_uniform'}\n",
      "0.505543 (0.115556) with: {'init_mode': 'he_normal'}\n",
      "0.653269 (0.015197) with: {'init_mode': 'he_uniform'}\n"
     ]
    }
   ],
   "source": [
    "# KerasClassifier için gerekli olan modeli oluşturma\n",
    "def create_model(init_mode='uniform'):\n",
    "\t# Model oluşturma\n",
    "\tmodel = Sequential()\n",
    "\tmodel.add(Dense(12, input_dim=8, kernel_initializer=init_mode, activation='relu'))\n",
    "\tmodel.add(Dense(1, kernel_initializer=init_mode, activation='sigmoid'))\n",
    "\t# Modeli derleme\n",
    "\tmodel.compile(loss='binary_crossentropy', optimizer='adam', metrics=['accuracy'])\n",
    "\treturn model\n",
    "# Tekrarlanabilirlik için rastgele tohumu ayarladık.\n",
    "seed = 7\n",
    "numpy.random.seed(seed)\n",
    "# Giriş (X) ve çıkış (Y) değişkenlerine böldük\n",
    "X = dataset[:,0:8]\n",
    "Y = dataset[:,8]\n",
    "# Model oluşturma\n",
    "model = KerasClassifier(build_fn=create_model, epochs=100, batch_size=10, verbose=0)\n",
    "# Izgara arama parametrelerini tanımladık.\n",
    "init_mode = ['uniform', 'lecun_uniform', 'normal', 'zero', 'glorot_normal', 'glorot_uniform', 'he_normal', 'he_uniform']\n",
    "param_grid = dict(init_mode=init_mode)\n",
    "grid = GridSearchCV(estimator=model, param_grid=param_grid, n_jobs=-1, cv=3)\n",
    "grid_result = grid.fit(X, Y)\n",
    "# Sonuçları özetleyelim.\n",
    "print(\"Best: %f using %s\" % (grid_result.best_score_, grid_result.best_params_))\n",
    "means = grid_result.cv_results_['mean_test_score']\n",
    "stds = grid_result.cv_results_['std_test_score']\n",
    "params = grid_result.cv_results_['params']\n",
    "for mean, stdev, param in zip(means, stds, params):\n",
    "    print(\"%f (%f) with: %r\" % (mean, stdev, param))"
   ]
  },
  {
   "cell_type": "code",
   "execution_count": null,
   "metadata": {},
   "outputs": [],
   "source": []
  },
  {
   "cell_type": "markdown",
   "metadata": {},
   "source": [
    "# 5- Nöron Aktivasyon Fonksiyonu Nasıl Ayarlanır"
   ]
  },
  {
   "cell_type": "code",
   "execution_count": 15,
   "metadata": {},
   "outputs": [],
   "source": [
    "# Aktivasyon işlevini ızgarada aramak için scikit-learn'i kullanın\n",
    "import numpy\n",
    "from sklearn.model_selection import GridSearchCV\n",
    "from keras.models import Sequential\n",
    "from keras.layers import Dense\n",
    "from keras.wrappers.scikit_learn import KerasClassifier"
   ]
  },
  {
   "cell_type": "code",
   "execution_count": 16,
   "metadata": {},
   "outputs": [
    {
     "name": "stdout",
     "output_type": "stream",
     "text": [
      "Best: 0.654655 using {'activation': 'softmax'}\n",
      "0.654655 (0.016017) with: {'activation': 'softmax'}\n",
      "0.654655 (0.016017) with: {'activation': 'softplus'}\n",
      "0.654655 (0.016017) with: {'activation': 'softsign'}\n",
      "0.654655 (0.016017) with: {'activation': 'relu'}\n",
      "0.654655 (0.016017) with: {'activation': 'tanh'}\n",
      "0.654655 (0.016017) with: {'activation': 'sigmoid'}\n",
      "0.654655 (0.016017) with: {'activation': 'hard_sigmoid'}\n",
      "0.545161 (0.149397) with: {'activation': 'linear'}\n"
     ]
    }
   ],
   "source": [
    "# KerasClassifier için gerekli olan modeli oluşturma\n",
    "def create_model(activation='relu'):\n",
    "\t# Model oluşturma\n",
    "\tmodel = Sequential()\n",
    "\tmodel.add(Dense(12, input_dim=8, kernel_initializer='uniform', activation=activation))\n",
    "\tmodel.add(Dense(1, kernel_initializer='uniform', activation='sigmoid'))\n",
    "\t# Modeli derleme\n",
    "\tmodel.compile(loss='binary_crossentropy', optimizer='adam', metrics=['accuracy'])\n",
    "\treturn model\n",
    "# Tekrarlanabilirlik için rastgele tohumu ayarladık.\n",
    "seed = 7\n",
    "numpy.random.seed(seed)\n",
    "# Giriş (X) ve çıkış (Y) değişkenlerine böldük\n",
    "X = dataset[:,0:8]\n",
    "Y = dataset[:,8]\n",
    "# Model oluşturma\n",
    "model = KerasClassifier(build_fn=create_model, epochs=100, batch_size=10, verbose=0)\n",
    "# Izgara arama parametrelerini tanımladık.\n",
    "activation = ['softmax', 'softplus', 'softsign', 'relu', 'tanh', 'sigmoid', 'hard_sigmoid', 'linear']\n",
    "param_grid = dict(activation=activation)\n",
    "grid = GridSearchCV(estimator=model, param_grid=param_grid, n_jobs=-1, cv=3)\n",
    "grid_result = grid.fit(X, Y)\n",
    "# Sonuçları özetleyelim.\n",
    "print(\"Best: %f using %s\" % (grid_result.best_score_, grid_result.best_params_))\n",
    "means = grid_result.cv_results_['mean_test_score']\n",
    "stds = grid_result.cv_results_['std_test_score']\n",
    "params = grid_result.cv_results_['params']\n",
    "for mean, stdev, param in zip(means, stds, params):\n",
    "    print(\"%f (%f) with: %r\" % (mean, stdev, param))"
   ]
  },
  {
   "cell_type": "code",
   "execution_count": null,
   "metadata": {},
   "outputs": [],
   "source": []
  },
  {
   "cell_type": "markdown",
   "metadata": {},
   "source": [
    "# 6- Bırakma Düzenlemesini Ayarlama"
   ]
  },
  {
   "cell_type": "code",
   "execution_count": 17,
   "metadata": {},
   "outputs": [],
   "source": [
    "# Bırakma oranını ızgarada aramak için scikit-learn'i kullanalım.\n",
    "import numpy\n",
    "from sklearn.model_selection import GridSearchCV\n",
    "from keras.models import Sequential\n",
    "from keras.layers import Dense\n",
    "from keras.layers import Dropout\n",
    "from keras.wrappers.scikit_learn import KerasClassifier\n",
    "from keras.constraints import maxnorm"
   ]
  },
  {
   "cell_type": "code",
   "execution_count": 18,
   "metadata": {},
   "outputs": [
    {
     "name": "stdout",
     "output_type": "stream",
     "text": [
      "Best: 0.655348 using {'dropout_rate': 0.4, 'weight_constraint': 5}\n",
      "0.603373 (0.061677) with: {'dropout_rate': 0.0, 'weight_constraint': 1}\n",
      "0.622084 (0.062072) with: {'dropout_rate': 0.0, 'weight_constraint': 2}\n",
      "0.514669 (0.120426) with: {'dropout_rate': 0.0, 'weight_constraint': 3}\n",
      "0.629655 (0.030099) with: {'dropout_rate': 0.0, 'weight_constraint': 4}\n",
      "0.654655 (0.016017) with: {'dropout_rate': 0.0, 'weight_constraint': 5}\n",
      "0.654655 (0.014606) with: {'dropout_rate': 0.1, 'weight_constraint': 1}\n",
      "0.654655 (0.016017) with: {'dropout_rate': 0.1, 'weight_constraint': 2}\n",
      "0.433356 (0.140475) with: {'dropout_rate': 0.1, 'weight_constraint': 3}\n",
      "0.654655 (0.016017) with: {'dropout_rate': 0.1, 'weight_constraint': 4}\n",
      "0.550481 (0.146479) with: {'dropout_rate': 0.1, 'weight_constraint': 5}\n",
      "0.654655 (0.016017) with: {'dropout_rate': 0.2, 'weight_constraint': 1}\n",
      "0.654655 (0.016017) with: {'dropout_rate': 0.2, 'weight_constraint': 2}\n",
      "0.608224 (0.081673) with: {'dropout_rate': 0.2, 'weight_constraint': 3}\n",
      "0.544468 (0.148987) with: {'dropout_rate': 0.2, 'weight_constraint': 4}\n",
      "0.524371 (0.139593) with: {'dropout_rate': 0.2, 'weight_constraint': 5}\n",
      "0.654655 (0.016017) with: {'dropout_rate': 0.3, 'weight_constraint': 1}\n",
      "0.654655 (0.016017) with: {'dropout_rate': 0.3, 'weight_constraint': 2}\n",
      "0.654655 (0.016017) with: {'dropout_rate': 0.3, 'weight_constraint': 3}\n",
      "0.544468 (0.148987) with: {'dropout_rate': 0.3, 'weight_constraint': 4}\n",
      "0.543544 (0.149260) with: {'dropout_rate': 0.3, 'weight_constraint': 5}\n",
      "0.650497 (0.014240) with: {'dropout_rate': 0.4, 'weight_constraint': 1}\n",
      "0.542851 (0.148697) with: {'dropout_rate': 0.4, 'weight_constraint': 2}\n",
      "0.566644 (0.140475) with: {'dropout_rate': 0.4, 'weight_constraint': 3}\n",
      "0.433356 (0.140475) with: {'dropout_rate': 0.4, 'weight_constraint': 4}\n",
      "0.655348 (0.015038) with: {'dropout_rate': 0.4, 'weight_constraint': 5}\n",
      "0.654655 (0.016017) with: {'dropout_rate': 0.5, 'weight_constraint': 1}\n",
      "0.565951 (0.138532) with: {'dropout_rate': 0.5, 'weight_constraint': 2}\n",
      "0.457149 (0.148852) with: {'dropout_rate': 0.5, 'weight_constraint': 3}\n",
      "0.654655 (0.016017) with: {'dropout_rate': 0.5, 'weight_constraint': 4}\n",
      "0.553960 (0.134596) with: {'dropout_rate': 0.5, 'weight_constraint': 5}\n",
      "0.545627 (0.146326) with: {'dropout_rate': 0.6, 'weight_constraint': 1}\n",
      "0.635251 (0.043453) with: {'dropout_rate': 0.6, 'weight_constraint': 2}\n",
      "0.654655 (0.016017) with: {'dropout_rate': 0.6, 'weight_constraint': 3}\n",
      "0.485421 (0.111521) with: {'dropout_rate': 0.6, 'weight_constraint': 4}\n",
      "0.556738 (0.130689) with: {'dropout_rate': 0.6, 'weight_constraint': 5}\n",
      "0.544468 (0.148987) with: {'dropout_rate': 0.7, 'weight_constraint': 1}\n",
      "0.566644 (0.140475) with: {'dropout_rate': 0.7, 'weight_constraint': 2}\n",
      "0.654655 (0.016017) with: {'dropout_rate': 0.7, 'weight_constraint': 3}\n",
      "0.654655 (0.016017) with: {'dropout_rate': 0.7, 'weight_constraint': 4}\n",
      "0.543544 (0.149260) with: {'dropout_rate': 0.7, 'weight_constraint': 5}\n",
      "0.654655 (0.016017) with: {'dropout_rate': 0.8, 'weight_constraint': 1}\n",
      "0.544468 (0.148987) with: {'dropout_rate': 0.8, 'weight_constraint': 2}\n",
      "0.565258 (0.121115) with: {'dropout_rate': 0.8, 'weight_constraint': 3}\n",
      "0.566644 (0.140475) with: {'dropout_rate': 0.8, 'weight_constraint': 4}\n",
      "0.543544 (0.149260) with: {'dropout_rate': 0.8, 'weight_constraint': 5}\n",
      "0.566644 (0.140475) with: {'dropout_rate': 0.9, 'weight_constraint': 1}\n",
      "0.542897 (0.102068) with: {'dropout_rate': 0.9, 'weight_constraint': 2}\n",
      "0.633865 (0.026061) with: {'dropout_rate': 0.9, 'weight_constraint': 3}\n",
      "0.544468 (0.148987) with: {'dropout_rate': 0.9, 'weight_constraint': 4}\n",
      "0.645646 (0.028754) with: {'dropout_rate': 0.9, 'weight_constraint': 5}\n"
     ]
    }
   ],
   "source": [
    "# KerasClassifier için gerekli olan modeli oluşturma\n",
    "def create_model(dropout_rate=0.0, weight_constraint=0):\n",
    "\t# Model oluşturma\n",
    "\tmodel = Sequential()\n",
    "\tmodel.add(Dense(12, input_dim=8, kernel_initializer='uniform', activation='linear', kernel_constraint=maxnorm(weight_constraint)))\n",
    "\tmodel.add(Dropout(dropout_rate))\n",
    "\tmodel.add(Dense(1, kernel_initializer='uniform', activation='sigmoid'))\n",
    "\t# Modeli derleme\n",
    "\tmodel.compile(loss='binary_crossentropy', optimizer='adam', metrics=['accuracy'])\n",
    "\treturn model\n",
    "# Tekrarlanabilirlik için rastgele tohumu ayarladık.\n",
    "seed = 7\n",
    "numpy.random.seed(seed)\n",
    "# Giriş (X) ve çıkış (Y) değişkenlerine böldük\n",
    "X = dataset[:,0:8]\n",
    "Y = dataset[:,8]\n",
    "# Model oluşturma\n",
    "model = KerasClassifier(build_fn=create_model, epochs=100, batch_size=10, verbose=0)\n",
    "#Izgara arama parametrelerini tanımladık.\n",
    "weight_constraint = [1, 2, 3, 4, 5]\n",
    "dropout_rate = [0.0, 0.1, 0.2, 0.3, 0.4, 0.5, 0.6, 0.7, 0.8, 0.9]\n",
    "param_grid = dict(dropout_rate=dropout_rate, weight_constraint=weight_constraint)\n",
    "grid = GridSearchCV(estimator=model, param_grid=param_grid, n_jobs=-1, cv=3)\n",
    "grid_result = grid.fit(X, Y)\n",
    "# Sonuçları özetleyelim.\n",
    "print(\"Best: %f using %s\" % (grid_result.best_score_, grid_result.best_params_))\n",
    "means = grid_result.cv_results_['mean_test_score']\n",
    "stds = grid_result.cv_results_['std_test_score']\n",
    "params = grid_result.cv_results_['params']\n",
    "for mean, stdev, param in zip(means, stds, params):\n",
    "    print(\"%f (%f) with: %r\" % (mean, stdev, param))"
   ]
  },
  {
   "cell_type": "code",
   "execution_count": null,
   "metadata": {},
   "outputs": [],
   "source": []
  },
  {
   "cell_type": "markdown",
   "metadata": {},
   "source": [
    "# 7- Gizli Katmandaki Nöron Sayısı Nasıl Ayarlanır"
   ]
  },
  {
   "cell_type": "code",
   "execution_count": 19,
   "metadata": {},
   "outputs": [],
   "source": [
    "# Nöron sayısını ızgarada aramak için scikit-learn'i kullanalım.\n",
    "import numpy\n",
    "from sklearn.model_selection import GridSearchCV\n",
    "from keras.models import Sequential\n",
    "from keras.layers import Dense\n",
    "from keras.layers import Dropout\n",
    "from keras.wrappers.scikit_learn import KerasClassifier\n",
    "from keras.constraints import maxnorm"
   ]
  },
  {
   "cell_type": "code",
   "execution_count": 20,
   "metadata": {},
   "outputs": [
    {
     "name": "stdout",
     "output_type": "stream",
     "text": [
      "Best: 0.654655 using {'neurons': 1}\n",
      "0.654655 (0.016017) with: {'neurons': 1}\n",
      "0.654655 (0.016017) with: {'neurons': 5}\n",
      "0.458310 (0.146744) with: {'neurons': 10}\n",
      "0.494340 (0.135699) with: {'neurons': 15}\n",
      "0.454158 (0.134786) with: {'neurons': 20}\n",
      "0.642874 (0.032673) with: {'neurons': 25}\n",
      "0.549794 (0.140460) with: {'neurons': 30}\n"
     ]
    }
   ],
   "source": [
    "# KerasClassifier için gerekli olan modeli oluşturma\n",
    "def create_model(neurons=1):\n",
    "\t# Model oluşturma\n",
    "\tmodel = Sequential()\n",
    "\tmodel.add(Dense(neurons, input_dim=8, kernel_initializer='uniform', activation='linear', kernel_constraint=maxnorm(4)))\n",
    "\tmodel.add(Dropout(0.2))\n",
    "\tmodel.add(Dense(1, kernel_initializer='uniform', activation='sigmoid'))\n",
    "\t# Modeli derleme\n",
    "\tmodel.compile(loss='binary_crossentropy', optimizer='adam', metrics=['accuracy'])\n",
    "\treturn model\n",
    "# Tekrarlanabilirlik için rastgele tohumu ayarladık.\n",
    "seed = 7\n",
    "numpy.random.seed(seed)\n",
    "# Giriş (X) ve çıkış (Y) değişkenlerine böldük\n",
    "X = dataset[:,0:8]\n",
    "Y = dataset[:,8]\n",
    "# Model oluşturma\n",
    "model = KerasClassifier(build_fn=create_model, epochs=100, batch_size=10, verbose=0)\n",
    "# Izgara arama parametrelerini tanımladık.\n",
    "neurons = [1, 5, 10, 15, 20, 25, 30]\n",
    "param_grid = dict(neurons=neurons)\n",
    "grid = GridSearchCV(estimator=model, param_grid=param_grid, n_jobs=-1, cv=3)\n",
    "grid_result = grid.fit(X, Y)\n",
    "# Sonuçları özetleyelim.\n",
    "print(\"Best: %f using %s\" % (grid_result.best_score_, grid_result.best_params_))\n",
    "means = grid_result.cv_results_['mean_test_score']\n",
    "stds = grid_result.cv_results_['std_test_score']\n",
    "params = grid_result.cv_results_['params']\n",
    "for mean, stdev, param in zip(means, stds, params):\n",
    "    print(\"%f (%f) with: %r\" % (mean, stdev, param))"
   ]
  },
  {
   "cell_type": "code",
   "execution_count": null,
   "metadata": {},
   "outputs": [],
   "source": []
  }
 ],
 "metadata": {
  "kernelspec": {
   "display_name": "Python 3",
   "language": "python",
   "name": "python3"
  },
  "language_info": {
   "codemirror_mode": {
    "name": "ipython",
    "version": 3
   },
   "file_extension": ".py",
   "mimetype": "text/x-python",
   "name": "python",
   "nbconvert_exporter": "python",
   "pygments_lexer": "ipython3",
   "version": "3.8.3"
  }
 },
 "nbformat": 4,
 "nbformat_minor": 4
}
