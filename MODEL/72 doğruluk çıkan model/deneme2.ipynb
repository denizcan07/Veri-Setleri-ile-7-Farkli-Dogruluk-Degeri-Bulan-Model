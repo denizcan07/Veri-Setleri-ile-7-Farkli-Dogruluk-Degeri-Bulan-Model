{
 "cells": [
  {
   "cell_type": "code",
   "execution_count": 1,
   "metadata": {},
   "outputs": [],
   "source": [
    "import numpy\n",
    "import pandas as pd"
   ]
  },
  {
   "cell_type": "code",
   "execution_count": 2,
   "metadata": {},
   "outputs": [
    {
     "data": {
      "text/plain": [
       "(767, 9)"
      ]
     },
     "execution_count": 2,
     "metadata": {},
     "output_type": "execute_result"
    }
   ],
   "source": [
    "df = pd.read_csv(\"pima-indians-diabetes.csv\",header=0,infer_datetime_format=True)\n",
    "df.shape"
   ]
  },
  {
   "cell_type": "code",
   "execution_count": 3,
   "metadata": {
    "scrolled": true
   },
   "outputs": [
    {
     "data": {
      "text/html": [
       "<div>\n",
       "<style scoped>\n",
       "    .dataframe tbody tr th:only-of-type {\n",
       "        vertical-align: middle;\n",
       "    }\n",
       "\n",
       "    .dataframe tbody tr th {\n",
       "        vertical-align: top;\n",
       "    }\n",
       "\n",
       "    .dataframe thead th {\n",
       "        text-align: right;\n",
       "    }\n",
       "</style>\n",
       "<table border=\"1\" class=\"dataframe\">\n",
       "  <thead>\n",
       "    <tr style=\"text-align: right;\">\n",
       "      <th></th>\n",
       "      <th>6</th>\n",
       "      <th>148</th>\n",
       "      <th>72</th>\n",
       "      <th>35</th>\n",
       "      <th>0</th>\n",
       "      <th>33.6</th>\n",
       "      <th>0.627</th>\n",
       "      <th>50</th>\n",
       "      <th>1</th>\n",
       "    </tr>\n",
       "  </thead>\n",
       "  <tbody>\n",
       "    <tr>\n",
       "      <th>0</th>\n",
       "      <td>1</td>\n",
       "      <td>85</td>\n",
       "      <td>66</td>\n",
       "      <td>29</td>\n",
       "      <td>0</td>\n",
       "      <td>26.6</td>\n",
       "      <td>0.351</td>\n",
       "      <td>31</td>\n",
       "      <td>0</td>\n",
       "    </tr>\n",
       "    <tr>\n",
       "      <th>1</th>\n",
       "      <td>8</td>\n",
       "      <td>183</td>\n",
       "      <td>64</td>\n",
       "      <td>0</td>\n",
       "      <td>0</td>\n",
       "      <td>23.3</td>\n",
       "      <td>0.672</td>\n",
       "      <td>32</td>\n",
       "      <td>1</td>\n",
       "    </tr>\n",
       "    <tr>\n",
       "      <th>2</th>\n",
       "      <td>1</td>\n",
       "      <td>89</td>\n",
       "      <td>66</td>\n",
       "      <td>23</td>\n",
       "      <td>94</td>\n",
       "      <td>28.1</td>\n",
       "      <td>0.167</td>\n",
       "      <td>21</td>\n",
       "      <td>0</td>\n",
       "    </tr>\n",
       "    <tr>\n",
       "      <th>3</th>\n",
       "      <td>0</td>\n",
       "      <td>137</td>\n",
       "      <td>40</td>\n",
       "      <td>35</td>\n",
       "      <td>168</td>\n",
       "      <td>43.1</td>\n",
       "      <td>2.288</td>\n",
       "      <td>33</td>\n",
       "      <td>1</td>\n",
       "    </tr>\n",
       "    <tr>\n",
       "      <th>4</th>\n",
       "      <td>5</td>\n",
       "      <td>116</td>\n",
       "      <td>74</td>\n",
       "      <td>0</td>\n",
       "      <td>0</td>\n",
       "      <td>25.6</td>\n",
       "      <td>0.201</td>\n",
       "      <td>30</td>\n",
       "      <td>0</td>\n",
       "    </tr>\n",
       "  </tbody>\n",
       "</table>\n",
       "</div>"
      ],
      "text/plain": [
       "   6  148  72  35    0  33.6  0.627  50  1\n",
       "0  1   85  66  29    0  26.6  0.351  31  0\n",
       "1  8  183  64   0    0  23.3  0.672  32  1\n",
       "2  1   89  66  23   94  28.1  0.167  21  0\n",
       "3  0  137  40  35  168  43.1  2.288  33  1\n",
       "4  5  116  74   0    0  25.6  0.201  30  0"
      ]
     },
     "execution_count": 3,
     "metadata": {},
     "output_type": "execute_result"
    }
   ],
   "source": [
    "df.head()"
   ]
  },
  {
   "cell_type": "code",
   "execution_count": 4,
   "metadata": {},
   "outputs": [
    {
     "data": {
      "text/html": [
       "<div>\n",
       "<style scoped>\n",
       "    .dataframe tbody tr th:only-of-type {\n",
       "        vertical-align: middle;\n",
       "    }\n",
       "\n",
       "    .dataframe tbody tr th {\n",
       "        vertical-align: top;\n",
       "    }\n",
       "\n",
       "    .dataframe thead th {\n",
       "        text-align: right;\n",
       "    }\n",
       "</style>\n",
       "<table border=\"1\" class=\"dataframe\">\n",
       "  <thead>\n",
       "    <tr style=\"text-align: right;\">\n",
       "      <th></th>\n",
       "      <th>6</th>\n",
       "      <th>148</th>\n",
       "      <th>72</th>\n",
       "      <th>35</th>\n",
       "      <th>0</th>\n",
       "      <th>33.6</th>\n",
       "      <th>0.627</th>\n",
       "      <th>50</th>\n",
       "      <th>1</th>\n",
       "    </tr>\n",
       "  </thead>\n",
       "  <tbody>\n",
       "    <tr>\n",
       "      <th>0</th>\n",
       "      <td>1</td>\n",
       "      <td>85</td>\n",
       "      <td>66</td>\n",
       "      <td>29</td>\n",
       "      <td>0</td>\n",
       "      <td>26.6</td>\n",
       "      <td>0.351</td>\n",
       "      <td>31</td>\n",
       "      <td>0</td>\n",
       "    </tr>\n",
       "    <tr>\n",
       "      <th>1</th>\n",
       "      <td>8</td>\n",
       "      <td>183</td>\n",
       "      <td>64</td>\n",
       "      <td>0</td>\n",
       "      <td>0</td>\n",
       "      <td>23.3</td>\n",
       "      <td>0.672</td>\n",
       "      <td>32</td>\n",
       "      <td>1</td>\n",
       "    </tr>\n",
       "    <tr>\n",
       "      <th>2</th>\n",
       "      <td>1</td>\n",
       "      <td>89</td>\n",
       "      <td>66</td>\n",
       "      <td>23</td>\n",
       "      <td>94</td>\n",
       "      <td>28.1</td>\n",
       "      <td>0.167</td>\n",
       "      <td>21</td>\n",
       "      <td>0</td>\n",
       "    </tr>\n",
       "    <tr>\n",
       "      <th>3</th>\n",
       "      <td>0</td>\n",
       "      <td>137</td>\n",
       "      <td>40</td>\n",
       "      <td>35</td>\n",
       "      <td>168</td>\n",
       "      <td>43.1</td>\n",
       "      <td>2.288</td>\n",
       "      <td>33</td>\n",
       "      <td>1</td>\n",
       "    </tr>\n",
       "    <tr>\n",
       "      <th>4</th>\n",
       "      <td>5</td>\n",
       "      <td>116</td>\n",
       "      <td>74</td>\n",
       "      <td>0</td>\n",
       "      <td>0</td>\n",
       "      <td>25.6</td>\n",
       "      <td>0.201</td>\n",
       "      <td>30</td>\n",
       "      <td>0</td>\n",
       "    </tr>\n",
       "  </tbody>\n",
       "</table>\n",
       "</div>"
      ],
      "text/plain": [
       "   6  148  72  35    0  33.6  0.627  50  1\n",
       "0  1   85  66  29    0  26.6  0.351  31  0\n",
       "1  8  183  64   0    0  23.3  0.672  32  1\n",
       "2  1   89  66  23   94  28.1  0.167  21  0\n",
       "3  0  137  40  35  168  43.1  2.288  33  1\n",
       "4  5  116  74   0    0  25.6  0.201  30  0"
      ]
     },
     "execution_count": 4,
     "metadata": {},
     "output_type": "execute_result"
    }
   ],
   "source": [
    "df = df.iloc[:,0:9]\n",
    "df.head()"
   ]
  },
  {
   "cell_type": "code",
   "execution_count": 5,
   "metadata": {},
   "outputs": [
    {
     "data": {
      "text/html": [
       "<div>\n",
       "<style scoped>\n",
       "    .dataframe tbody tr th:only-of-type {\n",
       "        vertical-align: middle;\n",
       "    }\n",
       "\n",
       "    .dataframe tbody tr th {\n",
       "        vertical-align: top;\n",
       "    }\n",
       "\n",
       "    .dataframe thead th {\n",
       "        text-align: right;\n",
       "    }\n",
       "</style>\n",
       "<table border=\"1\" class=\"dataframe\">\n",
       "  <thead>\n",
       "    <tr style=\"text-align: right;\">\n",
       "      <th></th>\n",
       "      <th>6</th>\n",
       "      <th>148</th>\n",
       "      <th>72</th>\n",
       "      <th>35</th>\n",
       "      <th>0</th>\n",
       "      <th>33.6</th>\n",
       "      <th>0.627</th>\n",
       "      <th>50</th>\n",
       "      <th>1</th>\n",
       "    </tr>\n",
       "  </thead>\n",
       "  <tbody>\n",
       "    <tr>\n",
       "      <th>762</th>\n",
       "      <td>10</td>\n",
       "      <td>101</td>\n",
       "      <td>76</td>\n",
       "      <td>48</td>\n",
       "      <td>180</td>\n",
       "      <td>32.9</td>\n",
       "      <td>0.171</td>\n",
       "      <td>63</td>\n",
       "      <td>0</td>\n",
       "    </tr>\n",
       "    <tr>\n",
       "      <th>763</th>\n",
       "      <td>2</td>\n",
       "      <td>122</td>\n",
       "      <td>70</td>\n",
       "      <td>27</td>\n",
       "      <td>0</td>\n",
       "      <td>36.8</td>\n",
       "      <td>0.340</td>\n",
       "      <td>27</td>\n",
       "      <td>0</td>\n",
       "    </tr>\n",
       "    <tr>\n",
       "      <th>764</th>\n",
       "      <td>5</td>\n",
       "      <td>121</td>\n",
       "      <td>72</td>\n",
       "      <td>23</td>\n",
       "      <td>112</td>\n",
       "      <td>26.2</td>\n",
       "      <td>0.245</td>\n",
       "      <td>30</td>\n",
       "      <td>0</td>\n",
       "    </tr>\n",
       "    <tr>\n",
       "      <th>765</th>\n",
       "      <td>1</td>\n",
       "      <td>126</td>\n",
       "      <td>60</td>\n",
       "      <td>0</td>\n",
       "      <td>0</td>\n",
       "      <td>30.1</td>\n",
       "      <td>0.349</td>\n",
       "      <td>47</td>\n",
       "      <td>1</td>\n",
       "    </tr>\n",
       "    <tr>\n",
       "      <th>766</th>\n",
       "      <td>1</td>\n",
       "      <td>93</td>\n",
       "      <td>70</td>\n",
       "      <td>31</td>\n",
       "      <td>0</td>\n",
       "      <td>30.4</td>\n",
       "      <td>0.315</td>\n",
       "      <td>23</td>\n",
       "      <td>0</td>\n",
       "    </tr>\n",
       "  </tbody>\n",
       "</table>\n",
       "</div>"
      ],
      "text/plain": [
       "      6  148  72  35    0  33.6  0.627  50  1\n",
       "762  10  101  76  48  180  32.9  0.171  63  0\n",
       "763   2  122  70  27    0  36.8  0.340  27  0\n",
       "764   5  121  72  23  112  26.2  0.245  30  0\n",
       "765   1  126  60   0    0  30.1  0.349  47  1\n",
       "766   1   93  70  31    0  30.4  0.315  23  0"
      ]
     },
     "execution_count": 5,
     "metadata": {},
     "output_type": "execute_result"
    }
   ],
   "source": [
    "df.tail()"
   ]
  },
  {
   "cell_type": "code",
   "execution_count": 6,
   "metadata": {},
   "outputs": [
    {
     "data": {
      "text/plain": [
       "array([[1.00e+00, 8.50e+01, 6.60e+01, ..., 3.51e-01, 3.10e+01, 0.00e+00],\n",
       "       [8.00e+00, 1.83e+02, 6.40e+01, ..., 6.72e-01, 3.20e+01, 1.00e+00],\n",
       "       [1.00e+00, 8.90e+01, 6.60e+01, ..., 1.67e-01, 2.10e+01, 0.00e+00],\n",
       "       ...,\n",
       "       [5.00e+00, 1.21e+02, 7.20e+01, ..., 2.45e-01, 3.00e+01, 0.00e+00],\n",
       "       [1.00e+00, 1.26e+02, 6.00e+01, ..., 3.49e-01, 4.70e+01, 1.00e+00],\n",
       "       [1.00e+00, 9.30e+01, 7.00e+01, ..., 3.15e-01, 2.30e+01, 0.00e+00]])"
      ]
     },
     "execution_count": 6,
     "metadata": {},
     "output_type": "execute_result"
    }
   ],
   "source": [
    "dataset=numpy.array(df)\n",
    "dataset"
   ]
  },
  {
   "cell_type": "markdown",
   "metadata": {},
   "source": [
    "# 1- Parti Boyutunu ve Dönem Sayısı Nasıl Ayarlanır"
   ]
  },
  {
   "cell_type": "code",
   "execution_count": 7,
   "metadata": {},
   "outputs": [],
   "source": [
    "# Epochs ve batch size'ı ızgarada aramak için scikit-learn'i kullanalım.\n",
    "from sklearn.model_selection import GridSearchCV\n",
    "from keras.models import Sequential\n",
    "from keras.layers import Dense\n",
    "from keras.wrappers.scikit_learn import KerasClassifier"
   ]
  },
  {
   "cell_type": "code",
   "execution_count": 8,
   "metadata": {},
   "outputs": [
    {
     "name": "stdout",
     "output_type": "stream",
     "text": [
      "Best: 0.724934 using {'batch_size': 2, 'epochs': 100}\n",
      "0.674071 (0.012885) with: {'batch_size': 2, 'epochs': 10}\n",
      "0.693597 (0.008566) with: {'batch_size': 2, 'epochs': 50}\n",
      "0.724934 (0.018805) with: {'batch_size': 2, 'epochs': 100}\n",
      "0.642754 (0.040215) with: {'batch_size': 4, 'epochs': 10}\n",
      "0.674020 (0.020103) with: {'batch_size': 4, 'epochs': 50}\n",
      "0.692315 (0.014912) with: {'batch_size': 4, 'epochs': 100}\n",
      "0.598478 (0.028202) with: {'batch_size': 8, 'epochs': 10}\n",
      "0.687051 (0.026068) with: {'batch_size': 8, 'epochs': 50}\n",
      "0.690993 (0.006892) with: {'batch_size': 8, 'epochs': 100}\n",
      "0.589195 (0.091055) with: {'batch_size': 16, 'epochs': 10}\n",
      "0.618010 (0.014625) with: {'batch_size': 16, 'epochs': 50}\n",
      "0.658369 (0.021920) with: {'batch_size': 16, 'epochs': 100}\n",
      "0.488843 (0.041413) with: {'batch_size': 32, 'epochs': 10}\n",
      "0.625868 (0.034619) with: {'batch_size': 32, 'epochs': 50}\n",
      "0.680545 (0.015360) with: {'batch_size': 32, 'epochs': 100}\n",
      "0.591876 (0.048346) with: {'batch_size': 64, 'epochs': 10}\n",
      "0.633655 (0.010617) with: {'batch_size': 64, 'epochs': 50}\n",
      "0.654478 (0.010909) with: {'batch_size': 64, 'epochs': 100}\n",
      "0.565732 (0.062497) with: {'batch_size': 128, 'epochs': 10}\n",
      "0.591973 (0.032092) with: {'batch_size': 128, 'epochs': 50}\n",
      "0.599786 (0.062660) with: {'batch_size': 128, 'epochs': 100}\n"
     ]
    }
   ],
   "source": [
    "# KerasClassifier için gerekli olan modeli oluşturma \n",
    "def create_model():\n",
    "\t# Model oluşturma\n",
    "\tmodel = Sequential()\n",
    "\tmodel.add(Dense(12, input_dim=8, activation='relu'))\n",
    "\tmodel.add(Dense(1, activation='sigmoid'))\n",
    "\t# Modeli derleme\n",
    "\tmodel.compile(loss='binary_crossentropy', optimizer='adam', metrics=['accuracy'])\n",
    "\treturn model\n",
    "# Tekrarlanabilirlik için rastgele tohumu ayarladık.\n",
    "seed = 7\n",
    "numpy.random.seed(seed)\n",
    "# Giriş (X) ve çıkış (Y) değişkenlerine böldük\n",
    "X = dataset[:,0:8]\n",
    "Y = dataset[:,8:]\n",
    "# model oluşturma\n",
    "model = KerasClassifier(build_fn=create_model, verbose=0)\n",
    "# Izgara arama parametrelerini tanımladık.\n",
    "batch_size = [2, 4, 8, 16, 32, 64, 128]\n",
    "epochs = [10, 50, 100]\n",
    "param_grid = dict(batch_size=batch_size, epochs=epochs)\n",
    "grid = GridSearchCV(estimator=model, param_grid=param_grid, n_jobs=-1, cv=3)\n",
    "grid_result = grid.fit(X, Y)\n",
    "# Sonuçları özetleyelim.\n",
    "print(\"Best: %f using %s\" % (grid_result.best_score_, grid_result.best_params_))\n",
    "means = grid_result.cv_results_['mean_test_score']\n",
    "stds = grid_result.cv_results_['std_test_score']\n",
    "params = grid_result.cv_results_['params']\n",
    "for mean, stdev, param in zip(means, stds, params):\n",
    "    print(\"%f (%f) with: %r\" % (mean, stdev, param))"
   ]
  },
  {
   "cell_type": "code",
   "execution_count": null,
   "metadata": {},
   "outputs": [],
   "source": []
  },
  {
   "cell_type": "markdown",
   "metadata": {},
   "source": [
    "# 2- Eğitim Optimizasyon Algoritmasını Ayarlama"
   ]
  },
  {
   "cell_type": "code",
   "execution_count": 9,
   "metadata": {},
   "outputs": [],
   "source": [
    "import numpy\n",
    "from sklearn.model_selection import GridSearchCV\n",
    "from keras.models import Sequential\n",
    "from keras.layers import Dense\n",
    "from keras.wrappers.scikit_learn import KerasClassifier"
   ]
  },
  {
   "cell_type": "code",
   "execution_count": 10,
   "metadata": {},
   "outputs": [
    {
     "name": "stdout",
     "output_type": "stream",
     "text": [
      "Best: 0.689701 using {'optimizer': 'Nadam'}\n",
      "0.607496 (0.042194) with: {'optimizer': 'SGD'}\n",
      "0.681878 (0.017545) with: {'optimizer': 'RMSprop'}\n",
      "0.593178 (0.031986) with: {'optimizer': 'Adagrad'}\n",
      "0.460069 (0.143152) with: {'optimizer': 'Adadelta'}\n",
      "0.650495 (0.051606) with: {'optimizer': 'Adam'}\n",
      "0.637500 (0.026708) with: {'optimizer': 'Adamax'}\n",
      "0.689701 (0.017545) with: {'optimizer': 'Nadam'}\n"
     ]
    }
   ],
   "source": [
    "# KerasClassifier için gerekli olan modeli oluşturma\n",
    "def create_model(optimizer='adam'):\n",
    "\t# Model oluşturma\n",
    "\tmodel = Sequential()\n",
    "\tmodel.add(Dense(12, input_dim=8, activation='relu'))\n",
    "\tmodel.add(Dense(1, activation='sigmoid'))\n",
    "\t# Modeli derleme\n",
    "\tmodel.compile(loss='binary_crossentropy', optimizer=optimizer, metrics=['accuracy'])\n",
    "\treturn model\n",
    "# Tekrarlanabilirlik için rastgele tohumu ayarladık.\n",
    "seed = 7\n",
    "numpy.random.seed(seed)\n",
    "# Giriş (X) ve çıkış (Y) değişkenlerine böldük\n",
    "X = dataset[:,0:8]\n",
    "Y = dataset[:,8:]\n",
    "# Model oluşturma\n",
    "model = KerasClassifier(build_fn=create_model, epochs=100, batch_size=10, verbose=0)\n",
    "# Izgara arama parametrelerini tanımladık.\n",
    "optimizer = ['SGD', 'RMSprop', 'Adagrad', 'Adadelta', 'Adam', 'Adamax', 'Nadam']\n",
    "param_grid = dict(optimizer=optimizer)\n",
    "grid = GridSearchCV(estimator=model, param_grid=param_grid, n_jobs=-1, cv=3)\n",
    "grid_result = grid.fit(X, Y)\n",
    "# Sonuçları özetleyelim.\n",
    "print(\"Best: %f using %s\" % (grid_result.best_score_, grid_result.best_params_))\n",
    "means = grid_result.cv_results_['mean_test_score']\n",
    "stds = grid_result.cv_results_['std_test_score']\n",
    "params = grid_result.cv_results_['params']\n",
    "for mean, stdev, param in zip(means, stds, params):\n",
    "    print(\"%f (%f) with: %r\" % (mean, stdev, param))"
   ]
  },
  {
   "cell_type": "code",
   "execution_count": null,
   "metadata": {},
   "outputs": [],
   "source": []
  },
  {
   "cell_type": "markdown",
   "metadata": {},
   "source": [
    "# 3- Öğrenme Hızını ve Momentum Ayarlama"
   ]
  },
  {
   "cell_type": "code",
   "execution_count": 11,
   "metadata": {},
   "outputs": [],
   "source": [
    "# Öğrenme hızını ve momentumu ızgarada aramak için scikit-learn'i kullanalım\n",
    "import numpy\n",
    "from sklearn.model_selection import GridSearchCV\n",
    "from keras.models import Sequential\n",
    "from keras.layers import Dense\n",
    "from keras.wrappers.scikit_learn import KerasClassifier\n",
    "from keras.optimizers import SGD"
   ]
  },
  {
   "cell_type": "code",
   "execution_count": 12,
   "metadata": {},
   "outputs": [
    {
     "name": "stdout",
     "output_type": "stream",
     "text": [
      "Best: 0.688404 using {'learn_rate': 0.001, 'momentum': 0.4}\n",
      "0.638756 (0.053893) with: {'learn_rate': 0.001, 'momentum': 0.0}\n",
      "0.661024 (0.004297) with: {'learn_rate': 0.001, 'momentum': 0.2}\n",
      "0.688404 (0.014910) with: {'learn_rate': 0.001, 'momentum': 0.4}\n",
      "0.680520 (0.034070) with: {'learn_rate': 0.001, 'momentum': 0.6}\n",
      "0.657138 (0.018936) with: {'learn_rate': 0.001, 'momentum': 0.8}\n",
      "0.659768 (0.034610) with: {'learn_rate': 0.001, 'momentum': 0.9}\n",
      "0.675357 (0.022334) with: {'learn_rate': 0.005, 'momentum': 0.0}\n",
      "0.646686 (0.006024) with: {'learn_rate': 0.005, 'momentum': 0.2}\n",
      "0.671421 (0.030722) with: {'learn_rate': 0.005, 'momentum': 0.4}\n",
      "0.650618 (0.024354) with: {'learn_rate': 0.005, 'momentum': 0.6}\n",
      "0.650618 (0.024354) with: {'learn_rate': 0.005, 'momentum': 0.8}\n",
      "0.649316 (0.026145) with: {'learn_rate': 0.005, 'momentum': 0.9}\n",
      "0.672743 (0.007691) with: {'learn_rate': 0.0015, 'momentum': 0.0}\n",
      "0.668816 (0.012712) with: {'learn_rate': 0.0015, 'momentum': 0.2}\n",
      "0.634916 (0.013598) with: {'learn_rate': 0.0015, 'momentum': 0.4}\n",
      "0.620547 (0.038174) with: {'learn_rate': 0.0015, 'momentum': 0.6}\n",
      "0.663654 (0.030115) with: {'learn_rate': 0.0015, 'momentum': 0.8}\n",
      "0.655826 (0.027327) with: {'learn_rate': 0.0015, 'momentum': 0.9}\n",
      "0.650613 (0.021303) with: {'learn_rate': 0.01, 'momentum': 0.0}\n",
      "0.641483 (0.025472) with: {'learn_rate': 0.01, 'momentum': 0.2}\n",
      "0.657149 (0.030204) with: {'learn_rate': 0.01, 'momentum': 0.4}\n",
      "0.650618 (0.024354) with: {'learn_rate': 0.01, 'momentum': 0.6}\n",
      "0.650618 (0.024354) with: {'learn_rate': 0.01, 'momentum': 0.8}\n",
      "0.651920 (0.022571) with: {'learn_rate': 0.01, 'momentum': 0.9}\n",
      "0.650618 (0.024354) with: {'learn_rate': 0.025, 'momentum': 0.0}\n",
      "0.649316 (0.026145) with: {'learn_rate': 0.025, 'momentum': 0.2}\n",
      "0.651920 (0.022571) with: {'learn_rate': 0.025, 'momentum': 0.4}\n",
      "0.651920 (0.022571) with: {'learn_rate': 0.025, 'momentum': 0.6}\n",
      "0.651920 (0.022571) with: {'learn_rate': 0.025, 'momentum': 0.8}\n",
      "0.651920 (0.022571) with: {'learn_rate': 0.025, 'momentum': 0.9}\n"
     ]
    }
   ],
   "source": [
    "# KerasClassifier için gerekli olan modeli oluşturma\n",
    "def create_model(learn_rate=0.01, momentum=0):\n",
    "\t# Model oluşturma\n",
    "\tmodel = Sequential()\n",
    "\tmodel.add(Dense(12, input_dim=8, activation='relu'))\n",
    "\tmodel.add(Dense(1, activation='sigmoid'))\n",
    "\t# Modeli derleme\n",
    "\toptimizer = SGD(lr=learn_rate, momentum=momentum)\n",
    "\tmodel.compile(loss='binary_crossentropy', optimizer=optimizer, metrics=['accuracy'])\n",
    "\treturn model\n",
    "# Tekrarlanabilirlik için rastgele tohumu ayarladık.\n",
    "seed = 7\n",
    "numpy.random.seed(seed)\n",
    "# Giriş (X) ve çıkış (Y) değişkenlerine böldük\n",
    "X = dataset[:,0:8]\n",
    "Y = dataset[:,8:]\n",
    "# Model oluşturma\n",
    "model = KerasClassifier(build_fn=create_model, epochs=100, batch_size=10, verbose=0)\n",
    "# Izgara arama parametrelerini tanımladık.\n",
    "learn_rate = [0.001, 0.005, 0.0015, 0.01, 0.025]\n",
    "momentum = [0.0, 0.2, 0.4, 0.6, 0.8, 0.9]\n",
    "param_grid = dict(learn_rate=learn_rate, momentum=momentum)\n",
    "grid = GridSearchCV(estimator=model, param_grid=param_grid, n_jobs=-1, cv=3)\n",
    "grid_result = grid.fit(X, Y)\n",
    "# Sonuçları özetleyelim.\n",
    "print(\"Best: %f using %s\" % (grid_result.best_score_, grid_result.best_params_))\n",
    "means = grid_result.cv_results_['mean_test_score']\n",
    "stds = grid_result.cv_results_['std_test_score']\n",
    "params = grid_result.cv_results_['params']\n",
    "for mean, stdev, param in zip(means, stds, params):\n",
    "    print(\"%f (%f) with: %r\" % (mean, stdev, param))"
   ]
  },
  {
   "cell_type": "code",
   "execution_count": null,
   "metadata": {},
   "outputs": [],
   "source": []
  },
  {
   "cell_type": "markdown",
   "metadata": {},
   "source": [
    "# 4- Ağ Ağırlığı Başlatma Nasıl Ayarlanır"
   ]
  },
  {
   "cell_type": "code",
   "execution_count": 15,
   "metadata": {},
   "outputs": [],
   "source": [
    "# Ağırlık başlatmayı ızgarada aramak için scikit-learn'i kullanalım.\n",
    "import numpy\n",
    "from sklearn.model_selection import GridSearchCV\n",
    "from keras.models import Sequential\n",
    "from keras.layers import Dense\n",
    "from keras.wrappers.scikit_learn import KerasClassifier"
   ]
  },
  {
   "cell_type": "code",
   "execution_count": 16,
   "metadata": {},
   "outputs": [
    {
     "name": "stdout",
     "output_type": "stream",
     "text": [
      "Best: 0.730127 using {'init_mode': 'normal'}\n",
      "0.713189 (0.020960) with: {'init_mode': 'uniform'}\n",
      "0.705362 (0.009254) with: {'init_mode': 'lecun_uniform'}\n",
      "0.730127 (0.016725) with: {'init_mode': 'normal'}\n",
      "0.651920 (0.022571) with: {'init_mode': 'zero'}\n",
      "0.702798 (0.034055) with: {'init_mode': 'glorot_normal'}\n",
      "0.715804 (0.018833) with: {'init_mode': 'glorot_uniform'}\n",
      "0.694924 (0.022874) with: {'init_mode': 'he_normal'}\n",
      "0.688378 (0.010312) with: {'init_mode': 'he_uniform'}\n"
     ]
    }
   ],
   "source": [
    "# KerasClassifier için gerekli olan modeli oluşturma\n",
    "def create_model(init_mode='uniform'):\n",
    "\t# Model oluşturma\n",
    "\tmodel = Sequential()\n",
    "\tmodel.add(Dense(12, input_dim=8, kernel_initializer=init_mode, activation='relu'))\n",
    "\tmodel.add(Dense(1, kernel_initializer=init_mode, activation='sigmoid'))\n",
    "\t# Modeli derleme\n",
    "\tmodel.compile(loss='binary_crossentropy', optimizer='adam', metrics=['accuracy'])\n",
    "\treturn model\n",
    "# Tekrarlanabilirlik için rastgele tohumu ayarladık.\n",
    "seed = 7\n",
    "numpy.random.seed(seed)\n",
    "# Giriş (X) ve çıkış (Y) değişkenlerine böldük\n",
    "X = dataset[:,0:8]\n",
    "Y = dataset[:,8:]\n",
    "# Model oluşturma\n",
    "model = KerasClassifier(build_fn=create_model, epochs=100, batch_size=10, verbose=0)\n",
    "# Izgara arama parametrelerini tanımladık.\n",
    "init_mode = ['uniform', 'lecun_uniform', 'normal', 'zero', 'glorot_normal', 'glorot_uniform', 'he_normal', 'he_uniform']\n",
    "param_grid = dict(init_mode=init_mode)\n",
    "grid = GridSearchCV(estimator=model, param_grid=param_grid, n_jobs=-1, cv=3)\n",
    "grid_result = grid.fit(X, Y)\n",
    "# Sonuçları özetleyelim.\n",
    "print(\"Best: %f using %s\" % (grid_result.best_score_, grid_result.best_params_))\n",
    "means = grid_result.cv_results_['mean_test_score']\n",
    "stds = grid_result.cv_results_['std_test_score']\n",
    "params = grid_result.cv_results_['params']\n",
    "for mean, stdev, param in zip(means, stds, params):\n",
    "    print(\"%f (%f) with: %r\" % (mean, stdev, param))"
   ]
  },
  {
   "cell_type": "code",
   "execution_count": null,
   "metadata": {},
   "outputs": [],
   "source": []
  },
  {
   "cell_type": "markdown",
   "metadata": {},
   "source": [
    "# 5- Nöron Aktivasyon Fonksiyonu Nasıl Ayarlanır"
   ]
  },
  {
   "cell_type": "code",
   "execution_count": 17,
   "metadata": {},
   "outputs": [],
   "source": [
    "# Aktivasyon işlevini ızgarada aramak için scikit-learn'i kullanın\n",
    "import numpy\n",
    "from sklearn.model_selection import GridSearchCV\n",
    "from keras.models import Sequential\n",
    "from keras.layers import Dense\n",
    "from keras.wrappers.scikit_learn import KerasClassifier"
   ]
  },
  {
   "cell_type": "code",
   "execution_count": 18,
   "metadata": {},
   "outputs": [
    {
     "name": "stdout",
     "output_type": "stream",
     "text": [
      "Best: 0.732746 using {'activation': 'softplus'}\n",
      "0.651920 (0.022571) with: {'activation': 'softmax'}\n",
      "0.732746 (0.029451) with: {'activation': 'softplus'}\n",
      "0.692341 (0.018176) with: {'activation': 'softsign'}\n",
      "0.721007 (0.023967) with: {'activation': 'relu'}\n",
      "0.668847 (0.004310) with: {'activation': 'tanh'}\n",
      "0.701455 (0.020948) with: {'activation': 'sigmoid'}\n",
      "0.687117 (0.013365) with: {'activation': 'hard_sigmoid'}\n",
      "0.719736 (0.026301) with: {'activation': 'linear'}\n"
     ]
    }
   ],
   "source": [
    "# KerasClassifier için gerekli olan modeli oluşturma\n",
    "def create_model(activation='relu'):\n",
    "\t# Model oluşturma\n",
    "\tmodel = Sequential()\n",
    "\tmodel.add(Dense(12, input_dim=8, kernel_initializer='uniform', activation=activation))\n",
    "\tmodel.add(Dense(1, kernel_initializer='uniform', activation='sigmoid'))\n",
    "\t# Modeli derleme\n",
    "\tmodel.compile(loss='binary_crossentropy', optimizer='adam', metrics=['accuracy'])\n",
    "\treturn model\n",
    "# Tekrarlanabilirlik için rastgele tohumu ayarladık.\n",
    "seed = 7\n",
    "numpy.random.seed(seed)\n",
    "# Giriş (X) ve çıkış (Y) değişkenlerine böldük\n",
    "X = dataset[:,0:8]\n",
    "Y = dataset[:,8:]\n",
    "# Model oluşturma\n",
    "model = KerasClassifier(build_fn=create_model, epochs=100, batch_size=10, verbose=0)\n",
    "# Izgara arama parametrelerini tanımladık.\n",
    "activation = ['softmax', 'softplus', 'softsign', 'relu', 'tanh', 'sigmoid', 'hard_sigmoid', 'linear']\n",
    "param_grid = dict(activation=activation)\n",
    "grid = GridSearchCV(estimator=model, param_grid=param_grid, n_jobs=-1, cv=3)\n",
    "grid_result = grid.fit(X, Y)\n",
    "# Sonuçları özetleyelim.\n",
    "print(\"Best: %f using %s\" % (grid_result.best_score_, grid_result.best_params_))\n",
    "means = grid_result.cv_results_['mean_test_score']\n",
    "stds = grid_result.cv_results_['std_test_score']\n",
    "params = grid_result.cv_results_['params']\n",
    "for mean, stdev, param in zip(means, stds, params):\n",
    "    print(\"%f (%f) with: %r\" % (mean, stdev, param))"
   ]
  },
  {
   "cell_type": "code",
   "execution_count": null,
   "metadata": {},
   "outputs": [],
   "source": []
  },
  {
   "cell_type": "markdown",
   "metadata": {},
   "source": [
    "# 6- Bırakma Düzenlemesini Ayarlama"
   ]
  },
  {
   "cell_type": "code",
   "execution_count": 19,
   "metadata": {},
   "outputs": [],
   "source": [
    "# Bırakma oranını ızgarada aramak için scikit-learn'i kullanalım.\n",
    "import numpy\n",
    "from sklearn.model_selection import GridSearchCV\n",
    "from keras.models import Sequential\n",
    "from keras.layers import Dense\n",
    "from keras.layers import Dropout\n",
    "from keras.wrappers.scikit_learn import KerasClassifier\n",
    "from keras.constraints import maxnorm"
   ]
  },
  {
   "cell_type": "code",
   "execution_count": 20,
   "metadata": {},
   "outputs": [
    {
     "name": "stdout",
     "output_type": "stream",
     "text": [
      "Best: 0.724949 using {'dropout_rate': 0.6, 'weight_constraint': 4}\n",
      "0.705351 (0.003148) with: {'dropout_rate': 0.0, 'weight_constraint': 1}\n",
      "0.722304 (0.010808) with: {'dropout_rate': 0.0, 'weight_constraint': 2}\n",
      "0.693607 (0.002412) with: {'dropout_rate': 0.0, 'weight_constraint': 3}\n",
      "0.719705 (0.010759) with: {'dropout_rate': 0.0, 'weight_constraint': 4}\n",
      "0.709329 (0.039449) with: {'dropout_rate': 0.0, 'weight_constraint': 5}\n",
      "0.694935 (0.014216) with: {'dropout_rate': 0.1, 'weight_constraint': 1}\n",
      "0.713205 (0.020035) with: {'dropout_rate': 0.1, 'weight_constraint': 2}\n",
      "0.701460 (0.026469) with: {'dropout_rate': 0.1, 'weight_constraint': 3}\n",
      "0.700143 (0.007539) with: {'dropout_rate': 0.1, 'weight_constraint': 4}\n",
      "0.717121 (0.022612) with: {'dropout_rate': 0.1, 'weight_constraint': 5}\n",
      "0.698856 (0.016060) with: {'dropout_rate': 0.2, 'weight_constraint': 1}\n",
      "0.724944 (0.022626) with: {'dropout_rate': 0.2, 'weight_constraint': 2}\n",
      "0.715829 (0.029708) with: {'dropout_rate': 0.2, 'weight_constraint': 3}\n",
      "0.709242 (0.010171) with: {'dropout_rate': 0.2, 'weight_constraint': 4}\n",
      "0.704065 (0.012782) with: {'dropout_rate': 0.2, 'weight_constraint': 5}\n",
      "0.697549 (0.019098) with: {'dropout_rate': 0.3, 'weight_constraint': 1}\n",
      "0.717126 (0.025525) with: {'dropout_rate': 0.3, 'weight_constraint': 2}\n",
      "0.700153 (0.022787) with: {'dropout_rate': 0.3, 'weight_constraint': 3}\n",
      "0.706664 (0.007929) with: {'dropout_rate': 0.3, 'weight_constraint': 4}\n",
      "0.719736 (0.026685) with: {'dropout_rate': 0.3, 'weight_constraint': 5}\n",
      "0.702768 (0.016381) with: {'dropout_rate': 0.4, 'weight_constraint': 1}\n",
      "0.701420 (0.008553) with: {'dropout_rate': 0.4, 'weight_constraint': 2}\n",
      "0.719736 (0.026685) with: {'dropout_rate': 0.4, 'weight_constraint': 3}\n",
      "0.718449 (0.035518) with: {'dropout_rate': 0.4, 'weight_constraint': 4}\n",
      "0.713179 (0.007621) with: {'dropout_rate': 0.4, 'weight_constraint': 5}\n",
      "0.717131 (0.028140) with: {'dropout_rate': 0.5, 'weight_constraint': 1}\n",
      "0.688383 (0.007216) with: {'dropout_rate': 0.5, 'weight_constraint': 2}\n",
      "0.702773 (0.020455) with: {'dropout_rate': 0.5, 'weight_constraint': 3}\n",
      "0.693602 (0.005421) with: {'dropout_rate': 0.5, 'weight_constraint': 4}\n",
      "0.702768 (0.017287) with: {'dropout_rate': 0.5, 'weight_constraint': 5}\n",
      "0.696206 (0.007201) with: {'dropout_rate': 0.6, 'weight_constraint': 1}\n",
      "0.701435 (0.004799) with: {'dropout_rate': 0.6, 'weight_constraint': 2}\n",
      "0.698841 (0.013591) with: {'dropout_rate': 0.6, 'weight_constraint': 3}\n",
      "0.724949 (0.026130) with: {'dropout_rate': 0.6, 'weight_constraint': 4}\n",
      "0.706659 (0.008103) with: {'dropout_rate': 0.6, 'weight_constraint': 5}\n",
      "0.701430 (0.006815) with: {'dropout_rate': 0.7, 'weight_constraint': 1}\n",
      "0.704054 (0.007546) with: {'dropout_rate': 0.7, 'weight_constraint': 2}\n",
      "0.705346 (0.004799) with: {'dropout_rate': 0.7, 'weight_constraint': 3}\n",
      "0.702732 (0.008636) with: {'dropout_rate': 0.7, 'weight_constraint': 4}\n",
      "0.696221 (0.001285) with: {'dropout_rate': 0.7, 'weight_constraint': 5}\n",
      "0.696216 (0.002178) with: {'dropout_rate': 0.8, 'weight_constraint': 1}\n",
      "0.687132 (0.031049) with: {'dropout_rate': 0.8, 'weight_constraint': 2}\n",
      "0.693612 (0.017546) with: {'dropout_rate': 0.8, 'weight_constraint': 3}\n",
      "0.693653 (0.022569) with: {'dropout_rate': 0.8, 'weight_constraint': 4}\n",
      "0.701455 (0.013952) with: {'dropout_rate': 0.8, 'weight_constraint': 5}\n",
      "0.661035 (0.028736) with: {'dropout_rate': 0.9, 'weight_constraint': 1}\n",
      "0.666258 (0.032005) with: {'dropout_rate': 0.9, 'weight_constraint': 2}\n",
      "0.688394 (0.017606) with: {'dropout_rate': 0.9, 'weight_constraint': 3}\n",
      "0.666263 (0.037522) with: {'dropout_rate': 0.9, 'weight_constraint': 4}\n",
      "0.676670 (0.030565) with: {'dropout_rate': 0.9, 'weight_constraint': 5}\n"
     ]
    }
   ],
   "source": [
    "# KerasClassifier için gerekli olan modeli oluşturma\n",
    "def create_model(dropout_rate=0.0, weight_constraint=0):\n",
    "\t# Model oluşturma\n",
    "\tmodel = Sequential()\n",
    "\tmodel.add(Dense(12, input_dim=8, kernel_initializer='uniform', activation='linear', kernel_constraint=maxnorm(weight_constraint)))\n",
    "\tmodel.add(Dropout(dropout_rate))\n",
    "\tmodel.add(Dense(1, kernel_initializer='uniform', activation='sigmoid'))\n",
    "\t# Modeli derleme\n",
    "\tmodel.compile(loss='binary_crossentropy', optimizer='adam', metrics=['accuracy'])\n",
    "\treturn model\n",
    "# Tekrarlanabilirlik için rastgele tohumu ayarladık.\n",
    "seed = 7\n",
    "numpy.random.seed(seed)\n",
    "# Giriş (X) ve çıkış (Y) değişkenlerine böldük\n",
    "X = dataset[:,0:8]\n",
    "Y = dataset[:,8:]\n",
    "# Model oluşturma\n",
    "model = KerasClassifier(build_fn=create_model, epochs=100, batch_size=10, verbose=0)\n",
    "#Izgara arama parametrelerini tanımladık.\n",
    "weight_constraint = [1, 2, 3, 4, 5]\n",
    "dropout_rate = [0.0, 0.1, 0.2, 0.3, 0.4, 0.5, 0.6, 0.7, 0.8, 0.9]\n",
    "param_grid = dict(dropout_rate=dropout_rate, weight_constraint=weight_constraint)\n",
    "grid = GridSearchCV(estimator=model, param_grid=param_grid, n_jobs=-1, cv=3)\n",
    "grid_result = grid.fit(X, Y)\n",
    "# Sonuçları özetleyelim.\n",
    "print(\"Best: %f using %s\" % (grid_result.best_score_, grid_result.best_params_))\n",
    "means = grid_result.cv_results_['mean_test_score']\n",
    "stds = grid_result.cv_results_['std_test_score']\n",
    "params = grid_result.cv_results_['params']\n",
    "for mean, stdev, param in zip(means, stds, params):\n",
    "    print(\"%f (%f) with: %r\" % (mean, stdev, param))"
   ]
  },
  {
   "cell_type": "code",
   "execution_count": null,
   "metadata": {},
   "outputs": [],
   "source": []
  },
  {
   "cell_type": "markdown",
   "metadata": {},
   "source": [
    "# 7- Gizli Katmandaki Nöron Sayısı Nasıl Ayarlanır"
   ]
  },
  {
   "cell_type": "code",
   "execution_count": 21,
   "metadata": {},
   "outputs": [],
   "source": [
    "# Nöron sayısını ızgarada aramak için scikit-learn'i kullanalım.\n",
    "import numpy\n",
    "from sklearn.model_selection import GridSearchCV\n",
    "from keras.models import Sequential\n",
    "from keras.layers import Dense\n",
    "from keras.layers import Dropout\n",
    "from keras.wrappers.scikit_learn import KerasClassifier\n",
    "from keras.constraints import maxnorm"
   ]
  },
  {
   "cell_type": "code",
   "execution_count": 22,
   "metadata": {},
   "outputs": [
    {
     "name": "stdout",
     "output_type": "stream",
     "text": [
      "Best: 0.717111 using {'neurons': 15}\n",
      "0.706659 (0.013702) with: {'neurons': 1}\n",
      "0.701445 (0.006122) with: {'neurons': 5}\n",
      "0.700158 (0.028309) with: {'neurons': 10}\n",
      "0.717111 (0.017091) with: {'neurons': 15}\n",
      "0.710621 (0.033314) with: {'neurons': 20}\n",
      "0.717096 (0.009275) with: {'neurons': 25}\n",
      "0.710580 (0.011015) with: {'neurons': 30}\n"
     ]
    }
   ],
   "source": [
    "# KerasClassifier için gerekli olan modeli oluşturma\n",
    "def create_model(neurons=1):\n",
    "\t# Model oluşturma\n",
    "\tmodel = Sequential()\n",
    "\tmodel.add(Dense(neurons, input_dim=8, kernel_initializer='uniform', activation='linear', kernel_constraint=maxnorm(4)))\n",
    "\tmodel.add(Dropout(0.2))\n",
    "\tmodel.add(Dense(1, kernel_initializer='uniform', activation='sigmoid'))\n",
    "\t# Modeli derleme\n",
    "\tmodel.compile(loss='binary_crossentropy', optimizer='adam', metrics=['accuracy'])\n",
    "\treturn model\n",
    "# Tekrarlanabilirlik için rastgele tohumu ayarladık.\n",
    "seed = 7\n",
    "numpy.random.seed(seed)\n",
    "# Giriş (X) ve çıkış (Y) değişkenlerine böldük\n",
    "X = dataset[:,0:8]\n",
    "Y = dataset[:,8:]\n",
    "# Model oluşturma\n",
    "model = KerasClassifier(build_fn=create_model, epochs=100, batch_size=10, verbose=0)\n",
    "# Izgara arama parametrelerini tanımladık.\n",
    "neurons = [1, 5, 10, 15, 20, 25, 30]\n",
    "param_grid = dict(neurons=neurons)\n",
    "grid = GridSearchCV(estimator=model, param_grid=param_grid, n_jobs=-1, cv=3)\n",
    "grid_result = grid.fit(X, Y)\n",
    "# Sonuçları özetleyelim.\n",
    "print(\"Best: %f using %s\" % (grid_result.best_score_, grid_result.best_params_))\n",
    "means = grid_result.cv_results_['mean_test_score']\n",
    "stds = grid_result.cv_results_['std_test_score']\n",
    "params = grid_result.cv_results_['params']\n",
    "for mean, stdev, param in zip(means, stds, params):\n",
    "    print(\"%f (%f) with: %r\" % (mean, stdev, param))"
   ]
  },
  {
   "cell_type": "code",
   "execution_count": null,
   "metadata": {},
   "outputs": [],
   "source": []
  }
 ],
 "metadata": {
  "kernelspec": {
   "display_name": "Python 3",
   "language": "python",
   "name": "python3"
  },
  "language_info": {
   "codemirror_mode": {
    "name": "ipython",
    "version": 3
   },
   "file_extension": ".py",
   "mimetype": "text/x-python",
   "name": "python",
   "nbconvert_exporter": "python",
   "pygments_lexer": "ipython3",
   "version": "3.8.3"
  }
 },
 "nbformat": 4,
 "nbformat_minor": 4
}
