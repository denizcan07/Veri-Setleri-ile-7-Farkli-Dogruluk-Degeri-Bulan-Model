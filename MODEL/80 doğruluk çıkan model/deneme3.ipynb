{
 "cells": [
  {
   "cell_type": "code",
   "execution_count": 14,
   "metadata": {},
   "outputs": [],
   "source": [
    "import numpy\n",
    "import pandas as pd"
   ]
  },
  {
   "cell_type": "code",
   "execution_count": 15,
   "metadata": {},
   "outputs": [
    {
     "data": {
      "text/plain": [
       "(498, 10)"
      ]
     },
     "execution_count": 15,
     "metadata": {},
     "output_type": "execute_result"
    }
   ],
   "source": [
    "df = pd.read_csv(\"veri-seti.csv\",header=0,infer_datetime_format=True)\n",
    "df.shape"
   ]
  },
  {
   "cell_type": "code",
   "execution_count": 16,
   "metadata": {
    "scrolled": true
   },
   "outputs": [
    {
     "data": {
      "text/html": [
       "<div>\n",
       "<style scoped>\n",
       "    .dataframe tbody tr th:only-of-type {\n",
       "        vertical-align: middle;\n",
       "    }\n",
       "\n",
       "    .dataframe tbody tr th {\n",
       "        vertical-align: top;\n",
       "    }\n",
       "\n",
       "    .dataframe thead th {\n",
       "        text-align: right;\n",
       "    }\n",
       "</style>\n",
       "<table border=\"1\" class=\"dataframe\">\n",
       "  <thead>\n",
       "    <tr style=\"text-align: right;\">\n",
       "      <th></th>\n",
       "      <th>0</th>\n",
       "      <th>1</th>\n",
       "      <th>22.01</th>\n",
       "      <th>101</th>\n",
       "      <th>3.08</th>\n",
       "      <th>6.42</th>\n",
       "      <th>1008.45</th>\n",
       "      <th>0.1</th>\n",
       "      <th>268.6</th>\n",
       "      <th>0.0</th>\n",
       "    </tr>\n",
       "  </thead>\n",
       "  <tbody>\n",
       "    <tr>\n",
       "      <th>0</th>\n",
       "      <td>1</td>\n",
       "      <td>1</td>\n",
       "      <td>22.06</td>\n",
       "      <td>105</td>\n",
       "      <td>2.94</td>\n",
       "      <td>6.28</td>\n",
       "      <td>1008.24</td>\n",
       "      <td>0</td>\n",
       "      <td>269.1</td>\n",
       "      <td>0.0</td>\n",
       "    </tr>\n",
       "    <tr>\n",
       "      <th>1</th>\n",
       "      <td>2</td>\n",
       "      <td>1</td>\n",
       "      <td>22.06</td>\n",
       "      <td>106</td>\n",
       "      <td>2.82</td>\n",
       "      <td>6.08</td>\n",
       "      <td>1007.90</td>\n",
       "      <td>0</td>\n",
       "      <td>269.7</td>\n",
       "      <td>0.0</td>\n",
       "    </tr>\n",
       "    <tr>\n",
       "      <th>2</th>\n",
       "      <td>3</td>\n",
       "      <td>1</td>\n",
       "      <td>21.87</td>\n",
       "      <td>106</td>\n",
       "      <td>2.63</td>\n",
       "      <td>5.74</td>\n",
       "      <td>1007.61</td>\n",
       "      <td>0</td>\n",
       "      <td>270.4</td>\n",
       "      <td>0.0</td>\n",
       "    </tr>\n",
       "    <tr>\n",
       "      <th>3</th>\n",
       "      <td>4</td>\n",
       "      <td>1</td>\n",
       "      <td>21.53</td>\n",
       "      <td>100</td>\n",
       "      <td>2.39</td>\n",
       "      <td>5.30</td>\n",
       "      <td>1007.51</td>\n",
       "      <td>0</td>\n",
       "      <td>271.3</td>\n",
       "      <td>0.0</td>\n",
       "    </tr>\n",
       "    <tr>\n",
       "      <th>4</th>\n",
       "      <td>5</td>\n",
       "      <td>1</td>\n",
       "      <td>21.56</td>\n",
       "      <td>94</td>\n",
       "      <td>2.09</td>\n",
       "      <td>4.47</td>\n",
       "      <td>1008.03</td>\n",
       "      <td>0</td>\n",
       "      <td>271.6</td>\n",
       "      <td>0.0</td>\n",
       "    </tr>\n",
       "  </tbody>\n",
       "</table>\n",
       "</div>"
      ],
      "text/plain": [
       "   0  1  22.01  101  3.08  6.42  1008.45  0.1  268.6  0.0\n",
       "0  1  1  22.06  105  2.94  6.28  1008.24    0  269.1  0.0\n",
       "1  2  1  22.06  106  2.82  6.08  1007.90    0  269.7  0.0\n",
       "2  3  1  21.87  106  2.63  5.74  1007.61    0  270.4  0.0\n",
       "3  4  1  21.53  100  2.39  5.30  1007.51    0  271.3  0.0\n",
       "4  5  1  21.56   94  2.09  4.47  1008.03    0  271.6  0.0"
      ]
     },
     "execution_count": 16,
     "metadata": {},
     "output_type": "execute_result"
    }
   ],
   "source": [
    "df.head()"
   ]
  },
  {
   "cell_type": "code",
   "execution_count": 17,
   "metadata": {},
   "outputs": [
    {
     "data": {
      "text/html": [
       "<div>\n",
       "<style scoped>\n",
       "    .dataframe tbody tr th:only-of-type {\n",
       "        vertical-align: middle;\n",
       "    }\n",
       "\n",
       "    .dataframe tbody tr th {\n",
       "        vertical-align: top;\n",
       "    }\n",
       "\n",
       "    .dataframe thead th {\n",
       "        text-align: right;\n",
       "    }\n",
       "</style>\n",
       "<table border=\"1\" class=\"dataframe\">\n",
       "  <thead>\n",
       "    <tr style=\"text-align: right;\">\n",
       "      <th></th>\n",
       "      <th>1</th>\n",
       "      <th>22.01</th>\n",
       "      <th>101</th>\n",
       "      <th>3.08</th>\n",
       "      <th>6.42</th>\n",
       "      <th>1008.45</th>\n",
       "      <th>0.1</th>\n",
       "      <th>268.6</th>\n",
       "      <th>0.0</th>\n",
       "    </tr>\n",
       "  </thead>\n",
       "  <tbody>\n",
       "    <tr>\n",
       "      <th>0</th>\n",
       "      <td>1</td>\n",
       "      <td>22.06</td>\n",
       "      <td>105</td>\n",
       "      <td>2.94</td>\n",
       "      <td>6.28</td>\n",
       "      <td>1008.24</td>\n",
       "      <td>0</td>\n",
       "      <td>269.1</td>\n",
       "      <td>0.0</td>\n",
       "    </tr>\n",
       "    <tr>\n",
       "      <th>1</th>\n",
       "      <td>1</td>\n",
       "      <td>22.06</td>\n",
       "      <td>106</td>\n",
       "      <td>2.82</td>\n",
       "      <td>6.08</td>\n",
       "      <td>1007.90</td>\n",
       "      <td>0</td>\n",
       "      <td>269.7</td>\n",
       "      <td>0.0</td>\n",
       "    </tr>\n",
       "    <tr>\n",
       "      <th>2</th>\n",
       "      <td>1</td>\n",
       "      <td>21.87</td>\n",
       "      <td>106</td>\n",
       "      <td>2.63</td>\n",
       "      <td>5.74</td>\n",
       "      <td>1007.61</td>\n",
       "      <td>0</td>\n",
       "      <td>270.4</td>\n",
       "      <td>0.0</td>\n",
       "    </tr>\n",
       "    <tr>\n",
       "      <th>3</th>\n",
       "      <td>1</td>\n",
       "      <td>21.53</td>\n",
       "      <td>100</td>\n",
       "      <td>2.39</td>\n",
       "      <td>5.30</td>\n",
       "      <td>1007.51</td>\n",
       "      <td>0</td>\n",
       "      <td>271.3</td>\n",
       "      <td>0.0</td>\n",
       "    </tr>\n",
       "    <tr>\n",
       "      <th>4</th>\n",
       "      <td>1</td>\n",
       "      <td>21.56</td>\n",
       "      <td>94</td>\n",
       "      <td>2.09</td>\n",
       "      <td>4.47</td>\n",
       "      <td>1008.03</td>\n",
       "      <td>0</td>\n",
       "      <td>271.6</td>\n",
       "      <td>0.0</td>\n",
       "    </tr>\n",
       "  </tbody>\n",
       "</table>\n",
       "</div>"
      ],
      "text/plain": [
       "   1  22.01  101  3.08  6.42  1008.45  0.1  268.6  0.0\n",
       "0  1  22.06  105  2.94  6.28  1008.24    0  269.1  0.0\n",
       "1  1  22.06  106  2.82  6.08  1007.90    0  269.7  0.0\n",
       "2  1  21.87  106  2.63  5.74  1007.61    0  270.4  0.0\n",
       "3  1  21.53  100  2.39  5.30  1007.51    0  271.3  0.0\n",
       "4  1  21.56   94  2.09  4.47  1008.03    0  271.6  0.0"
      ]
     },
     "execution_count": 17,
     "metadata": {},
     "output_type": "execute_result"
    }
   ],
   "source": [
    "df = df.iloc[:,1:10]\n",
    "df.head()"
   ]
  },
  {
   "cell_type": "code",
   "execution_count": 18,
   "metadata": {},
   "outputs": [
    {
     "data": {
      "text/html": [
       "<div>\n",
       "<style scoped>\n",
       "    .dataframe tbody tr th:only-of-type {\n",
       "        vertical-align: middle;\n",
       "    }\n",
       "\n",
       "    .dataframe tbody tr th {\n",
       "        vertical-align: top;\n",
       "    }\n",
       "\n",
       "    .dataframe thead th {\n",
       "        text-align: right;\n",
       "    }\n",
       "</style>\n",
       "<table border=\"1\" class=\"dataframe\">\n",
       "  <thead>\n",
       "    <tr style=\"text-align: right;\">\n",
       "      <th></th>\n",
       "      <th>1</th>\n",
       "      <th>22.01</th>\n",
       "      <th>101</th>\n",
       "      <th>3.08</th>\n",
       "      <th>6.42</th>\n",
       "      <th>1008.45</th>\n",
       "      <th>0.1</th>\n",
       "      <th>268.6</th>\n",
       "      <th>0.0</th>\n",
       "    </tr>\n",
       "  </thead>\n",
       "  <tbody>\n",
       "    <tr>\n",
       "      <th>493</th>\n",
       "      <td>0</td>\n",
       "      <td>6.13</td>\n",
       "      <td>319</td>\n",
       "      <td>3.77</td>\n",
       "      <td>4.50</td>\n",
       "      <td>1011.58</td>\n",
       "      <td>5</td>\n",
       "      <td>274.5</td>\n",
       "      <td>0.0</td>\n",
       "    </tr>\n",
       "    <tr>\n",
       "      <th>494</th>\n",
       "      <td>0</td>\n",
       "      <td>5.74</td>\n",
       "      <td>321</td>\n",
       "      <td>4.08</td>\n",
       "      <td>5.20</td>\n",
       "      <td>1010.65</td>\n",
       "      <td>3</td>\n",
       "      <td>274.7</td>\n",
       "      <td>0.0</td>\n",
       "    </tr>\n",
       "    <tr>\n",
       "      <th>495</th>\n",
       "      <td>0</td>\n",
       "      <td>6.05</td>\n",
       "      <td>323</td>\n",
       "      <td>3.94</td>\n",
       "      <td>5.68</td>\n",
       "      <td>1010.31</td>\n",
       "      <td>1</td>\n",
       "      <td>274.9</td>\n",
       "      <td>0.0</td>\n",
       "    </tr>\n",
       "    <tr>\n",
       "      <th>496</th>\n",
       "      <td>0</td>\n",
       "      <td>6.85</td>\n",
       "      <td>326</td>\n",
       "      <td>3.61</td>\n",
       "      <td>6.08</td>\n",
       "      <td>1010.73</td>\n",
       "      <td>0</td>\n",
       "      <td>275.7</td>\n",
       "      <td>0.0</td>\n",
       "    </tr>\n",
       "    <tr>\n",
       "      <th>497</th>\n",
       "      <td>0</td>\n",
       "      <td>7.65</td>\n",
       "      <td>325</td>\n",
       "      <td>3.12</td>\n",
       "      <td>5.62</td>\n",
       "      <td>1011.00</td>\n",
       "      <td>0</td>\n",
       "      <td>276.4</td>\n",
       "      <td>0.0</td>\n",
       "    </tr>\n",
       "  </tbody>\n",
       "</table>\n",
       "</div>"
      ],
      "text/plain": [
       "     1  22.01  101  3.08  6.42  1008.45  0.1  268.6  0.0\n",
       "493  0   6.13  319  3.77  4.50  1011.58    5  274.5  0.0\n",
       "494  0   5.74  321  4.08  5.20  1010.65    3  274.7  0.0\n",
       "495  0   6.05  323  3.94  5.68  1010.31    1  274.9  0.0\n",
       "496  0   6.85  326  3.61  6.08  1010.73    0  275.7  0.0\n",
       "497  0   7.65  325  3.12  5.62  1011.00    0  276.4  0.0"
      ]
     },
     "execution_count": 18,
     "metadata": {},
     "output_type": "execute_result"
    }
   ],
   "source": [
    "df.tail()"
   ]
  },
  {
   "cell_type": "code",
   "execution_count": 19,
   "metadata": {},
   "outputs": [
    {
     "data": {
      "text/plain": [
       "array([[  1.  ,  22.06, 105.  , ...,   0.  , 269.1 ,   0.  ],\n",
       "       [  1.  ,  22.06, 106.  , ...,   0.  , 269.7 ,   0.  ],\n",
       "       [  1.  ,  21.87, 106.  , ...,   0.  , 270.4 ,   0.  ],\n",
       "       ...,\n",
       "       [  0.  ,   6.05, 323.  , ...,   1.  , 274.9 ,   0.  ],\n",
       "       [  0.  ,   6.85, 326.  , ...,   0.  , 275.7 ,   0.  ],\n",
       "       [  0.  ,   7.65, 325.  , ...,   0.  , 276.4 ,   0.  ]])"
      ]
     },
     "execution_count": 19,
     "metadata": {},
     "output_type": "execute_result"
    }
   ],
   "source": [
    "dataset=numpy.array(df)\n",
    "dataset"
   ]
  },
  {
   "cell_type": "markdown",
   "metadata": {},
   "source": [
    "# 1- Parti Boyutunu ve Dönem Sayısı Nasıl Ayarlanır"
   ]
  },
  {
   "cell_type": "code",
   "execution_count": 20,
   "metadata": {},
   "outputs": [],
   "source": [
    "# Epochs ve batch size'ı ızgarada aramak için scikit-learn'i kullanalım.\n",
    "from sklearn.model_selection import GridSearchCV\n",
    "from keras.models import Sequential\n",
    "from keras.layers import Dense\n",
    "from keras.wrappers.scikit_learn import KerasClassifier"
   ]
  },
  {
   "cell_type": "code",
   "execution_count": 21,
   "metadata": {
    "scrolled": false
   },
   "outputs": [
    {
     "name": "stdout",
     "output_type": "stream",
     "text": [
      "Best: 0.809237 using {'batch_size': 8, 'epochs': 100}\n",
      "0.678715 (0.098537) with: {'batch_size': 2, 'epochs': 10}\n",
      "0.716867 (0.073451) with: {'batch_size': 2, 'epochs': 50}\n",
      "0.730924 (0.092979) with: {'batch_size': 2, 'epochs': 100}\n",
      "0.636546 (0.059092) with: {'batch_size': 4, 'epochs': 10}\n",
      "0.700803 (0.027090) with: {'batch_size': 4, 'epochs': 50}\n",
      "0.795181 (0.044268) with: {'batch_size': 4, 'epochs': 100}\n",
      "0.640562 (0.118593) with: {'batch_size': 8, 'epochs': 10}\n",
      "0.753012 (0.055865) with: {'batch_size': 8, 'epochs': 50}\n",
      "0.809237 (0.032003) with: {'batch_size': 8, 'epochs': 100}\n",
      "0.604418 (0.124854) with: {'batch_size': 16, 'epochs': 10}\n",
      "0.765060 (0.027386) with: {'batch_size': 16, 'epochs': 50}\n",
      "0.781124 (0.070310) with: {'batch_size': 16, 'epochs': 100}\n",
      "0.608434 (0.078698) with: {'batch_size': 32, 'epochs': 10}\n",
      "0.763052 (0.035582) with: {'batch_size': 32, 'epochs': 50}\n",
      "0.748996 (0.034896) with: {'batch_size': 32, 'epochs': 100}\n",
      "0.536145 (0.114405) with: {'batch_size': 64, 'epochs': 10}\n",
      "0.451807 (0.105149) with: {'batch_size': 64, 'epochs': 50}\n",
      "0.670683 (0.110679) with: {'batch_size': 64, 'epochs': 100}\n",
      "0.556225 (0.110569) with: {'batch_size': 128, 'epochs': 10}\n",
      "0.495984 (0.071673) with: {'batch_size': 128, 'epochs': 50}\n",
      "0.612450 (0.055285) with: {'batch_size': 128, 'epochs': 100}\n"
     ]
    }
   ],
   "source": [
    "# KerasClassifier için gerekli olan modeli oluşturma \n",
    "def create_model():\n",
    "\t# Model oluşturma\n",
    "\tmodel = Sequential()\n",
    "\tmodel.add(Dense(12, input_dim=8, activation='relu'))\n",
    "\tmodel.add(Dense(1, activation='sigmoid'))\n",
    "\t# Modeli derleme\n",
    "\tmodel.compile(loss='binary_crossentropy', optimizer='adam', metrics=['accuracy'])\n",
    "\treturn model\n",
    "# Tekrarlanabilirlik için rastgele tohumu ayarladık.\n",
    "seed = 7\n",
    "numpy.random.seed(seed)\n",
    "# Giriş (X) ve çıkış (Y) değişkenlerine böldük\n",
    "X = dataset[:,1:9]\n",
    "Y = dataset[:,0:1]\n",
    "# model oluşturma\n",
    "model = KerasClassifier(build_fn=create_model, verbose=0)\n",
    "# Izgara arama parametrelerini tanımladık.\n",
    "batch_size = [2, 4, 8, 16, 32, 64, 128]\n",
    "epochs = [10, 50, 100]\n",
    "param_grid = dict(batch_size=batch_size, epochs=epochs)\n",
    "grid = GridSearchCV(estimator=model, param_grid=param_grid, n_jobs=-1, cv=3)\n",
    "grid_result = grid.fit(X, Y)\n",
    "# Sonuçları özetleyelim.\n",
    "print(\"Best: %f using %s\" % (grid_result.best_score_, grid_result.best_params_))\n",
    "means = grid_result.cv_results_['mean_test_score']\n",
    "stds = grid_result.cv_results_['std_test_score']\n",
    "params = grid_result.cv_results_['params']\n",
    "for mean, stdev, param in zip(means, stds, params):\n",
    "    print(\"%f (%f) with: %r\" % (mean, stdev, param))"
   ]
  },
  {
   "cell_type": "code",
   "execution_count": null,
   "metadata": {},
   "outputs": [],
   "source": []
  },
  {
   "cell_type": "markdown",
   "metadata": {},
   "source": [
    "# 2- Eğitim Optimizasyon Algoritmasını Ayarlama"
   ]
  },
  {
   "cell_type": "code",
   "execution_count": 22,
   "metadata": {},
   "outputs": [],
   "source": [
    "import numpy\n",
    "from sklearn.model_selection import GridSearchCV\n",
    "from keras.models import Sequential\n",
    "from keras.layers import Dense\n",
    "from keras.wrappers.scikit_learn import KerasClassifier"
   ]
  },
  {
   "cell_type": "code",
   "execution_count": 23,
   "metadata": {},
   "outputs": [
    {
     "name": "stdout",
     "output_type": "stream",
     "text": [
      "Best: 0.801205 using {'optimizer': 'Adam'}\n",
      "0.403614 (0.078081) with: {'optimizer': 'SGD'}\n",
      "0.682731 (0.053956) with: {'optimizer': 'RMSprop'}\n",
      "0.556225 (0.158036) with: {'optimizer': 'Adagrad'}\n",
      "0.556225 (0.110569) with: {'optimizer': 'Adadelta'}\n",
      "0.801205 (0.025558) with: {'optimizer': 'Adam'}\n",
      "0.755020 (0.032750) with: {'optimizer': 'Adamax'}\n",
      "0.726908 (0.098537) with: {'optimizer': 'Nadam'}\n"
     ]
    }
   ],
   "source": [
    "# KerasClassifier için gerekli olan modeli oluşturma\n",
    "def create_model(optimizer='adam'):\n",
    "\t# Model oluşturma\n",
    "\tmodel = Sequential()\n",
    "\tmodel.add(Dense(12, input_dim=8, activation='relu'))\n",
    "\tmodel.add(Dense(1, activation='sigmoid'))\n",
    "\t# Modeli derleme\n",
    "\tmodel.compile(loss='binary_crossentropy', optimizer=optimizer, metrics=['accuracy'])\n",
    "\treturn model\n",
    "# Tekrarlanabilirlik için rastgele tohumu ayarladık.\n",
    "seed = 7\n",
    "numpy.random.seed(seed)\n",
    "# Giriş (X) ve çıkış (Y) değişkenlerine böldük\n",
    "X = dataset[:,1:9]\n",
    "Y = dataset[:,0:1]\n",
    "# Model oluşturma\n",
    "model = KerasClassifier(build_fn=create_model, epochs=100, batch_size=10, verbose=0)\n",
    "# Izgara arama parametrelerini tanımladık.\n",
    "optimizer = ['SGD', 'RMSprop', 'Adagrad', 'Adadelta', 'Adam', 'Adamax', 'Nadam']\n",
    "param_grid = dict(optimizer=optimizer)\n",
    "grid = GridSearchCV(estimator=model, param_grid=param_grid, n_jobs=-1, cv=3)\n",
    "grid_result = grid.fit(X, Y)\n",
    "# Sonuçları özetleyelim.\n",
    "print(\"Best: %f using %s\" % (grid_result.best_score_, grid_result.best_params_))\n",
    "means = grid_result.cv_results_['mean_test_score']\n",
    "stds = grid_result.cv_results_['std_test_score']\n",
    "params = grid_result.cv_results_['params']\n",
    "for mean, stdev, param in zip(means, stds, params):\n",
    "    print(\"%f (%f) with: %r\" % (mean, stdev, param))"
   ]
  },
  {
   "cell_type": "code",
   "execution_count": null,
   "metadata": {},
   "outputs": [],
   "source": []
  },
  {
   "cell_type": "markdown",
   "metadata": {},
   "source": [
    "# 3- Öğrenme Hızını ve Momentum Ayarlama"
   ]
  },
  {
   "cell_type": "code",
   "execution_count": 24,
   "metadata": {},
   "outputs": [],
   "source": [
    "# Öğrenme hızını ve momentumu ızgarada aramak için scikit-learn'i kullanalım\n",
    "import numpy\n",
    "from sklearn.model_selection import GridSearchCV\n",
    "from keras.models import Sequential\n",
    "from keras.layers import Dense\n",
    "from keras.wrappers.scikit_learn import KerasClassifier\n",
    "from keras.optimizers import SGD"
   ]
  },
  {
   "cell_type": "code",
   "execution_count": 25,
   "metadata": {},
   "outputs": [
    {
     "name": "stdout",
     "output_type": "stream",
     "text": [
      "Best: 0.620482 using {'learn_rate': 0.001, 'momentum': 0.2}\n",
      "0.495984 (0.143346) with: {'learn_rate': 0.001, 'momentum': 0.0}\n",
      "0.620482 (0.121183) with: {'learn_rate': 0.001, 'momentum': 0.2}\n",
      "0.403614 (0.078081) with: {'learn_rate': 0.001, 'momentum': 0.4}\n",
      "0.403614 (0.078081) with: {'learn_rate': 0.001, 'momentum': 0.6}\n",
      "0.403614 (0.078081) with: {'learn_rate': 0.001, 'momentum': 0.8}\n",
      "0.403614 (0.078081) with: {'learn_rate': 0.001, 'momentum': 0.9}\n",
      "0.403614 (0.078081) with: {'learn_rate': 0.005, 'momentum': 0.0}\n",
      "0.403614 (0.078081) with: {'learn_rate': 0.005, 'momentum': 0.2}\n",
      "0.403614 (0.078081) with: {'learn_rate': 0.005, 'momentum': 0.4}\n",
      "0.403614 (0.078081) with: {'learn_rate': 0.005, 'momentum': 0.6}\n",
      "0.403614 (0.078081) with: {'learn_rate': 0.005, 'momentum': 0.8}\n",
      "0.403614 (0.078081) with: {'learn_rate': 0.005, 'momentum': 0.9}\n",
      "0.487952 (0.137722) with: {'learn_rate': 0.0015, 'momentum': 0.0}\n",
      "0.403614 (0.078081) with: {'learn_rate': 0.0015, 'momentum': 0.2}\n",
      "0.403614 (0.078081) with: {'learn_rate': 0.0015, 'momentum': 0.4}\n",
      "0.403614 (0.078081) with: {'learn_rate': 0.0015, 'momentum': 0.6}\n",
      "0.403614 (0.078081) with: {'learn_rate': 0.0015, 'momentum': 0.8}\n",
      "0.403614 (0.078081) with: {'learn_rate': 0.0015, 'momentum': 0.9}\n",
      "0.403614 (0.078081) with: {'learn_rate': 0.01, 'momentum': 0.0}\n",
      "0.403614 (0.078081) with: {'learn_rate': 0.01, 'momentum': 0.2}\n",
      "0.403614 (0.078081) with: {'learn_rate': 0.01, 'momentum': 0.4}\n",
      "0.403614 (0.078081) with: {'learn_rate': 0.01, 'momentum': 0.6}\n",
      "0.403614 (0.078081) with: {'learn_rate': 0.01, 'momentum': 0.8}\n",
      "0.403614 (0.078081) with: {'learn_rate': 0.01, 'momentum': 0.9}\n",
      "0.403614 (0.078081) with: {'learn_rate': 0.025, 'momentum': 0.0}\n",
      "0.403614 (0.078081) with: {'learn_rate': 0.025, 'momentum': 0.2}\n",
      "0.403614 (0.078081) with: {'learn_rate': 0.025, 'momentum': 0.4}\n",
      "0.403614 (0.078081) with: {'learn_rate': 0.025, 'momentum': 0.6}\n",
      "0.403614 (0.078081) with: {'learn_rate': 0.025, 'momentum': 0.8}\n",
      "0.403614 (0.078081) with: {'learn_rate': 0.025, 'momentum': 0.9}\n"
     ]
    }
   ],
   "source": [
    "# KerasClassifier için gerekli olan modeli oluşturma\n",
    "def create_model(learn_rate=0.01, momentum=0):\n",
    "\t# Model oluşturma\n",
    "\tmodel = Sequential()\n",
    "\tmodel.add(Dense(12, input_dim=8, activation='relu'))\n",
    "\tmodel.add(Dense(1, activation='sigmoid'))\n",
    "\t# Modeli derleme\n",
    "\toptimizer = SGD(lr=learn_rate, momentum=momentum)\n",
    "\tmodel.compile(loss='binary_crossentropy', optimizer=optimizer, metrics=['accuracy'])\n",
    "\treturn model\n",
    "# Tekrarlanabilirlik için rastgele tohumu ayarladık.\n",
    "seed = 7\n",
    "numpy.random.seed(seed)\n",
    "# Giriş (X) ve çıkış (Y) değişkenlerine böldük\n",
    "X = dataset[:,1:9]\n",
    "Y = dataset[:,0:1]\n",
    "# Model oluşturma\n",
    "model = KerasClassifier(build_fn=create_model, epochs=100, batch_size=10, verbose=0)\n",
    "# Izgara arama parametrelerini tanımladık.\n",
    "learn_rate = [0.001, 0.005, 0.0015, 0.01, 0.025]\n",
    "momentum = [0.0, 0.2, 0.4, 0.6, 0.8, 0.9]\n",
    "param_grid = dict(learn_rate=learn_rate, momentum=momentum)\n",
    "grid = GridSearchCV(estimator=model, param_grid=param_grid, n_jobs=-1, cv=3)\n",
    "grid_result = grid.fit(X, Y)\n",
    "# Sonuçları özetleyelim.\n",
    "print(\"Best: %f using %s\" % (grid_result.best_score_, grid_result.best_params_))\n",
    "means = grid_result.cv_results_['mean_test_score']\n",
    "stds = grid_result.cv_results_['std_test_score']\n",
    "params = grid_result.cv_results_['params']\n",
    "for mean, stdev, param in zip(means, stds, params):\n",
    "    print(\"%f (%f) with: %r\" % (mean, stdev, param))"
   ]
  },
  {
   "cell_type": "code",
   "execution_count": null,
   "metadata": {},
   "outputs": [],
   "source": []
  },
  {
   "cell_type": "markdown",
   "metadata": {},
   "source": [
    "# 4- Ağ Ağırlığı Başlatma Nasıl Ayarlanır"
   ]
  },
  {
   "cell_type": "code",
   "execution_count": 26,
   "metadata": {},
   "outputs": [],
   "source": [
    "# Ağırlık başlatmayı ızgarada aramak için scikit-learn'i kullanalım.\n",
    "import numpy\n",
    "from sklearn.model_selection import GridSearchCV\n",
    "from keras.models import Sequential\n",
    "from keras.layers import Dense\n",
    "from keras.wrappers.scikit_learn import KerasClassifier"
   ]
  },
  {
   "cell_type": "code",
   "execution_count": 27,
   "metadata": {},
   "outputs": [
    {
     "name": "stdout",
     "output_type": "stream",
     "text": [
      "Best: 0.815261 using {'init_mode': 'uniform'}\n",
      "0.815261 (0.015027) with: {'init_mode': 'uniform'}\n",
      "0.751004 (0.075294) with: {'init_mode': 'lecun_uniform'}\n",
      "0.765060 (0.013014) with: {'init_mode': 'normal'}\n",
      "0.403614 (0.078081) with: {'init_mode': 'zero'}\n",
      "0.740964 (0.061631) with: {'init_mode': 'glorot_normal'}\n",
      "0.761044 (0.065500) with: {'init_mode': 'glorot_uniform'}\n",
      "0.763052 (0.078903) with: {'init_mode': 'he_normal'}\n",
      "0.763052 (0.046749) with: {'init_mode': 'he_uniform'}\n"
     ]
    }
   ],
   "source": [
    "# KerasClassifier için gerekli olan modeli oluşturma\n",
    "def create_model(init_mode='uniform'):\n",
    "\t# Model oluşturma\n",
    "\tmodel = Sequential()\n",
    "\tmodel.add(Dense(12, input_dim=8, kernel_initializer=init_mode, activation='relu'))\n",
    "\tmodel.add(Dense(1, kernel_initializer=init_mode, activation='sigmoid'))\n",
    "\t# Modeli derleme\n",
    "\tmodel.compile(loss='binary_crossentropy', optimizer='adam', metrics=['accuracy'])\n",
    "\treturn model\n",
    "# Tekrarlanabilirlik için rastgele tohumu ayarladık.\n",
    "seed = 7\n",
    "numpy.random.seed(seed)\n",
    "# Giriş (X) ve çıkış (Y) değişkenlerine böldük\n",
    "X = dataset[:,1:9]\n",
    "Y = dataset[:,0:1]\n",
    "# Model oluşturma\n",
    "model = KerasClassifier(build_fn=create_model, epochs=100, batch_size=10, verbose=0)\n",
    "# Izgara arama parametrelerini tanımladık.\n",
    "init_mode = ['uniform', 'lecun_uniform', 'normal', 'zero', 'glorot_normal', 'glorot_uniform', 'he_normal', 'he_uniform']\n",
    "param_grid = dict(init_mode=init_mode)\n",
    "grid = GridSearchCV(estimator=model, param_grid=param_grid, n_jobs=-1, cv=3)\n",
    "grid_result = grid.fit(X, Y)\n",
    "# Sonuçları özetleyelim.\n",
    "print(\"Best: %f using %s\" % (grid_result.best_score_, grid_result.best_params_))\n",
    "means = grid_result.cv_results_['mean_test_score']\n",
    "stds = grid_result.cv_results_['std_test_score']\n",
    "params = grid_result.cv_results_['params']\n",
    "for mean, stdev, param in zip(means, stds, params):\n",
    "    print(\"%f (%f) with: %r\" % (mean, stdev, param))"
   ]
  },
  {
   "cell_type": "code",
   "execution_count": null,
   "metadata": {},
   "outputs": [],
   "source": []
  },
  {
   "cell_type": "markdown",
   "metadata": {},
   "source": [
    "# 5- Nöron Aktivasyon Fonksiyonu Nasıl Ayarlanır"
   ]
  },
  {
   "cell_type": "code",
   "execution_count": 28,
   "metadata": {},
   "outputs": [],
   "source": [
    "# Aktivasyon işlevini ızgarada aramak için scikit-learn'i kullanın\n",
    "import numpy\n",
    "from sklearn.model_selection import GridSearchCV\n",
    "from keras.models import Sequential\n",
    "from keras.layers import Dense\n",
    "from keras.wrappers.scikit_learn import KerasClassifier"
   ]
  },
  {
   "cell_type": "code",
   "execution_count": 29,
   "metadata": {},
   "outputs": [
    {
     "name": "stdout",
     "output_type": "stream",
     "text": [
      "Best: 0.819277 using {'activation': 'linear'}\n",
      "0.447791 (0.128011) with: {'activation': 'softmax'}\n",
      "0.785141 (0.012378) with: {'activation': 'softplus'}\n",
      "0.702811 (0.062281) with: {'activation': 'softsign'}\n",
      "0.773092 (0.024263) with: {'activation': 'relu'}\n",
      "0.403614 (0.078081) with: {'activation': 'tanh'}\n",
      "0.700803 (0.066417) with: {'activation': 'sigmoid'}\n",
      "0.403614 (0.078081) with: {'activation': 'hard_sigmoid'}\n",
      "0.819277 (0.027386) with: {'activation': 'linear'}\n"
     ]
    }
   ],
   "source": [
    "# KerasClassifier için gerekli olan modeli oluşturma\n",
    "def create_model(activation='relu'):\n",
    "\t# Model oluşturma\n",
    "\tmodel = Sequential()\n",
    "\tmodel.add(Dense(12, input_dim=8, kernel_initializer='uniform', activation=activation))\n",
    "\tmodel.add(Dense(1, kernel_initializer='uniform', activation='sigmoid'))\n",
    "\t# Modeli derleme\n",
    "\tmodel.compile(loss='binary_crossentropy', optimizer='adam', metrics=['accuracy'])\n",
    "\treturn model\n",
    "# Tekrarlanabilirlik için rastgele tohumu ayarladık.\n",
    "seed = 7\n",
    "numpy.random.seed(seed)\n",
    "# Giriş (X) ve çıkış (Y) değişkenlerine böldük\n",
    "X = dataset[:,1:9]\n",
    "Y = dataset[:,0:1]\n",
    "# Model oluşturma\n",
    "model = KerasClassifier(build_fn=create_model, epochs=100, batch_size=10, verbose=0)\n",
    "# Izgara arama parametrelerini tanımladık.\n",
    "activation = ['softmax', 'softplus', 'softsign', 'relu', 'tanh', 'sigmoid', 'hard_sigmoid', 'linear']\n",
    "param_grid = dict(activation=activation)\n",
    "grid = GridSearchCV(estimator=model, param_grid=param_grid, n_jobs=-1, cv=3)\n",
    "grid_result = grid.fit(X, Y)\n",
    "# Sonuçları özetleyelim.\n",
    "print(\"Best: %f using %s\" % (grid_result.best_score_, grid_result.best_params_))\n",
    "means = grid_result.cv_results_['mean_test_score']\n",
    "stds = grid_result.cv_results_['std_test_score']\n",
    "params = grid_result.cv_results_['params']\n",
    "for mean, stdev, param in zip(means, stds, params):\n",
    "    print(\"%f (%f) with: %r\" % (mean, stdev, param))"
   ]
  },
  {
   "cell_type": "code",
   "execution_count": null,
   "metadata": {},
   "outputs": [],
   "source": []
  },
  {
   "cell_type": "markdown",
   "metadata": {},
   "source": [
    "# 6- Bırakma Düzenlemesini Ayarlama"
   ]
  },
  {
   "cell_type": "code",
   "execution_count": 30,
   "metadata": {},
   "outputs": [],
   "source": [
    "# Bırakma oranını ızgarada aramak için scikit-learn'i kullanalım.\n",
    "import numpy\n",
    "from sklearn.model_selection import GridSearchCV\n",
    "from keras.models import Sequential\n",
    "from keras.layers import Dense\n",
    "from keras.layers import Dropout\n",
    "from keras.wrappers.scikit_learn import KerasClassifier\n",
    "from keras.constraints import maxnorm"
   ]
  },
  {
   "cell_type": "code",
   "execution_count": 31,
   "metadata": {},
   "outputs": [
    {
     "name": "stdout",
     "output_type": "stream",
     "text": [
      "Best: 0.817269 using {'dropout_rate': 0.2, 'weight_constraint': 4}\n",
      "0.791165 (0.019878) with: {'dropout_rate': 0.0, 'weight_constraint': 1}\n",
      "0.755020 (0.015811) with: {'dropout_rate': 0.0, 'weight_constraint': 2}\n",
      "0.815261 (0.040060) with: {'dropout_rate': 0.0, 'weight_constraint': 3}\n",
      "0.791165 (0.037567) with: {'dropout_rate': 0.0, 'weight_constraint': 4}\n",
      "0.712851 (0.086088) with: {'dropout_rate': 0.0, 'weight_constraint': 5}\n",
      "0.759036 (0.069734) with: {'dropout_rate': 0.1, 'weight_constraint': 1}\n",
      "0.811245 (0.007513) with: {'dropout_rate': 0.1, 'weight_constraint': 2}\n",
      "0.803213 (0.039452) with: {'dropout_rate': 0.1, 'weight_constraint': 3}\n",
      "0.799197 (0.044631) with: {'dropout_rate': 0.1, 'weight_constraint': 4}\n",
      "0.799197 (0.023245) with: {'dropout_rate': 0.1, 'weight_constraint': 5}\n",
      "0.805221 (0.027090) with: {'dropout_rate': 0.2, 'weight_constraint': 1}\n",
      "0.807229 (0.040261) with: {'dropout_rate': 0.2, 'weight_constraint': 2}\n",
      "0.791165 (0.061500) with: {'dropout_rate': 0.2, 'weight_constraint': 3}\n",
      "0.817269 (0.027090) with: {'dropout_rate': 0.2, 'weight_constraint': 4}\n",
      "0.795181 (0.056725) with: {'dropout_rate': 0.2, 'weight_constraint': 5}\n",
      "0.785141 (0.053956) with: {'dropout_rate': 0.3, 'weight_constraint': 1}\n",
      "0.797189 (0.049268) with: {'dropout_rate': 0.3, 'weight_constraint': 2}\n",
      "0.769076 (0.051195) with: {'dropout_rate': 0.3, 'weight_constraint': 3}\n",
      "0.795181 (0.037135) with: {'dropout_rate': 0.3, 'weight_constraint': 4}\n",
      "0.803213 (0.040956) with: {'dropout_rate': 0.3, 'weight_constraint': 5}\n",
      "0.797189 (0.036917) with: {'dropout_rate': 0.4, 'weight_constraint': 1}\n",
      "0.803213 (0.032003) with: {'dropout_rate': 0.4, 'weight_constraint': 2}\n",
      "0.773092 (0.030053) with: {'dropout_rate': 0.4, 'weight_constraint': 3}\n",
      "0.781124 (0.045702) with: {'dropout_rate': 0.4, 'weight_constraint': 4}\n",
      "0.795181 (0.032254) with: {'dropout_rate': 0.4, 'weight_constraint': 5}\n",
      "0.781125 (0.039757) with: {'dropout_rate': 0.5, 'weight_constraint': 1}\n",
      "0.751004 (0.046489) with: {'dropout_rate': 0.5, 'weight_constraint': 2}\n",
      "0.773092 (0.050481) with: {'dropout_rate': 0.5, 'weight_constraint': 3}\n",
      "0.769076 (0.065500) with: {'dropout_rate': 0.5, 'weight_constraint': 4}\n",
      "0.765060 (0.060441) with: {'dropout_rate': 0.5, 'weight_constraint': 5}\n",
      "0.775100 (0.042974) with: {'dropout_rate': 0.6, 'weight_constraint': 1}\n",
      "0.777108 (0.030717) with: {'dropout_rate': 0.6, 'weight_constraint': 2}\n",
      "0.751004 (0.054180) with: {'dropout_rate': 0.6, 'weight_constraint': 3}\n",
      "0.773092 (0.036256) with: {'dropout_rate': 0.6, 'weight_constraint': 4}\n",
      "0.777108 (0.004919) with: {'dropout_rate': 0.6, 'weight_constraint': 5}\n",
      "0.759036 (0.032254) with: {'dropout_rate': 0.7, 'weight_constraint': 1}\n",
      "0.781125 (0.034547) with: {'dropout_rate': 0.7, 'weight_constraint': 2}\n",
      "0.757028 (0.060708) with: {'dropout_rate': 0.7, 'weight_constraint': 3}\n",
      "0.742972 (0.061500) with: {'dropout_rate': 0.7, 'weight_constraint': 4}\n",
      "0.744980 (0.058681) with: {'dropout_rate': 0.7, 'weight_constraint': 5}\n",
      "0.672691 (0.115283) with: {'dropout_rate': 0.8, 'weight_constraint': 1}\n",
      "0.716867 (0.046921) with: {'dropout_rate': 0.8, 'weight_constraint': 2}\n",
      "0.755020 (0.027969) with: {'dropout_rate': 0.8, 'weight_constraint': 3}\n",
      "0.759036 (0.030717) with: {'dropout_rate': 0.8, 'weight_constraint': 4}\n",
      "0.706827 (0.019879) with: {'dropout_rate': 0.8, 'weight_constraint': 5}\n",
      "0.662651 (0.042025) with: {'dropout_rate': 0.9, 'weight_constraint': 1}\n",
      "0.638554 (0.077303) with: {'dropout_rate': 0.9, 'weight_constraint': 2}\n",
      "0.712851 (0.044631) with: {'dropout_rate': 0.9, 'weight_constraint': 3}\n",
      "0.646586 (0.059500) with: {'dropout_rate': 0.9, 'weight_constraint': 4}\n",
      "0.632530 (0.093454) with: {'dropout_rate': 0.9, 'weight_constraint': 5}\n"
     ]
    }
   ],
   "source": [
    "# KerasClassifier için gerekli olan modeli oluşturma\n",
    "def create_model(dropout_rate=0.0, weight_constraint=0):\n",
    "\t# Model oluşturma\n",
    "\tmodel = Sequential()\n",
    "\tmodel.add(Dense(12, input_dim=8, kernel_initializer='uniform', activation='linear', kernel_constraint=maxnorm(weight_constraint)))\n",
    "\tmodel.add(Dropout(dropout_rate))\n",
    "\tmodel.add(Dense(1, kernel_initializer='uniform', activation='sigmoid'))\n",
    "\t# Modeli derleme\n",
    "\tmodel.compile(loss='binary_crossentropy', optimizer='adam', metrics=['accuracy'])\n",
    "\treturn model\n",
    "# Tekrarlanabilirlik için rastgele tohumu ayarladık.\n",
    "seed = 7\n",
    "numpy.random.seed(seed)\n",
    "# Giriş (X) ve çıkış (Y) değişkenlerine böldük\n",
    "X = dataset[:,1:9]\n",
    "Y = dataset[:,0:1]\n",
    "# Model oluşturma\n",
    "model = KerasClassifier(build_fn=create_model, epochs=100, batch_size=10, verbose=0)\n",
    "#Izgara arama parametrelerini tanımladık.\n",
    "weight_constraint = [1, 2, 3, 4, 5]\n",
    "dropout_rate = [0.0, 0.1, 0.2, 0.3, 0.4, 0.5, 0.6, 0.7, 0.8, 0.9]\n",
    "param_grid = dict(dropout_rate=dropout_rate, weight_constraint=weight_constraint)\n",
    "grid = GridSearchCV(estimator=model, param_grid=param_grid, n_jobs=-1, cv=3)\n",
    "grid_result = grid.fit(X, Y)\n",
    "# Sonuçları özetleyelim.\n",
    "print(\"Best: %f using %s\" % (grid_result.best_score_, grid_result.best_params_))\n",
    "means = grid_result.cv_results_['mean_test_score']\n",
    "stds = grid_result.cv_results_['std_test_score']\n",
    "params = grid_result.cv_results_['params']\n",
    "for mean, stdev, param in zip(means, stds, params):\n",
    "    print(\"%f (%f) with: %r\" % (mean, stdev, param))"
   ]
  },
  {
   "cell_type": "code",
   "execution_count": null,
   "metadata": {},
   "outputs": [],
   "source": []
  },
  {
   "cell_type": "markdown",
   "metadata": {},
   "source": [
    "# 7- Gizli Katmandaki Nöron Sayısı Nasıl Ayarlanır"
   ]
  },
  {
   "cell_type": "code",
   "execution_count": 32,
   "metadata": {},
   "outputs": [],
   "source": [
    "# Nöron sayısını ızgarada aramak için scikit-learn'i kullanalım.\n",
    "import numpy\n",
    "from sklearn.model_selection import GridSearchCV\n",
    "from keras.models import Sequential\n",
    "from keras.layers import Dense\n",
    "from keras.layers import Dropout\n",
    "from keras.wrappers.scikit_learn import KerasClassifier\n",
    "from keras.constraints import maxnorm"
   ]
  },
  {
   "cell_type": "code",
   "execution_count": 33,
   "metadata": {},
   "outputs": [
    {
     "name": "stdout",
     "output_type": "stream",
     "text": [
      "Best: 0.811245 using {'neurons': 15}\n",
      "0.795181 (0.047434) with: {'neurons': 1}\n",
      "0.797189 (0.032750) with: {'neurons': 5}\n",
      "0.789157 (0.054772) with: {'neurons': 10}\n",
      "0.811245 (0.038205) with: {'neurons': 15}\n",
      "0.781124 (0.018622) with: {'neurons': 20}\n",
      "0.795181 (0.026027) with: {'neurons': 25}\n",
      "0.803213 (0.034547) with: {'neurons': 30}\n"
     ]
    }
   ],
   "source": [
    "# KerasClassifier için gerekli olan modeli oluşturma\n",
    "def create_model(neurons=1):\n",
    "\t# Model oluşturma\n",
    "\tmodel = Sequential()\n",
    "\tmodel.add(Dense(neurons, input_dim=8, kernel_initializer='uniform', activation='linear', kernel_constraint=maxnorm(4)))\n",
    "\tmodel.add(Dropout(0.2))\n",
    "\tmodel.add(Dense(1, kernel_initializer='uniform', activation='sigmoid'))\n",
    "\t# Modeli derleme\n",
    "\tmodel.compile(loss='binary_crossentropy', optimizer='adam', metrics=['accuracy'])\n",
    "\treturn model\n",
    "# Tekrarlanabilirlik için rastgele tohumu ayarladık.\n",
    "seed = 7\n",
    "numpy.random.seed(seed)\n",
    "# Giriş (X) ve çıkış (Y) değişkenlerine böldük\n",
    "X = dataset[:,1:9]\n",
    "Y = dataset[:,0:1]\n",
    "# Model oluşturma\n",
    "model = KerasClassifier(build_fn=create_model, epochs=100, batch_size=10, verbose=0)\n",
    "# Izgara arama parametrelerini tanımladık.\n",
    "neurons = [1, 5, 10, 15, 20, 25, 30]\n",
    "param_grid = dict(neurons=neurons)\n",
    "grid = GridSearchCV(estimator=model, param_grid=param_grid, n_jobs=-1, cv=3)\n",
    "grid_result = grid.fit(X, Y)\n",
    "# Sonuçları özetleyelim.\n",
    "print(\"Best: %f using %s\" % (grid_result.best_score_, grid_result.best_params_))\n",
    "means = grid_result.cv_results_['mean_test_score']\n",
    "stds = grid_result.cv_results_['std_test_score']\n",
    "params = grid_result.cv_results_['params']\n",
    "for mean, stdev, param in zip(means, stds, params):\n",
    "    print(\"%f (%f) with: %r\" % (mean, stdev, param))"
   ]
  },
  {
   "cell_type": "code",
   "execution_count": null,
   "metadata": {},
   "outputs": [],
   "source": []
  }
 ],
 "metadata": {
  "kernelspec": {
   "display_name": "Python 3",
   "language": "python",
   "name": "python3"
  },
  "language_info": {
   "codemirror_mode": {
    "name": "ipython",
    "version": 3
   },
   "file_extension": ".py",
   "mimetype": "text/x-python",
   "name": "python",
   "nbconvert_exporter": "python",
   "pygments_lexer": "ipython3",
   "version": "3.8.3"
  }
 },
 "nbformat": 4,
 "nbformat_minor": 4
}
